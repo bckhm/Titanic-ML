{
 "cells": [
  {
   "cell_type": "markdown",
   "id": "a94bc804-eac2-4a3b-a863-cc10b7f99c10",
   "metadata": {},
   "source": [
    "## Problem definition\n",
    "\"Knowing from a training set of samples listing passengers who survived or did not survive the Titanic disaster, can our model determine based on a given test dataset not containing the survival information, if these passengers in the test dataset survived or not.\"\n",
    "\n",
    "Highlights to note:\n",
    "- On April 15, 1912, during her maiden voyage, the Titanic sank after colliding with an iceberg, killing 1502 out of 2224 passengers and crew. Translated 32% survival rate.\n",
    "- One of the reasons that the shipwreck led to such loss of life was that there were not enough lifeboats for the passengers and crew.\n",
    "- Although there was some element of luck involved in surviving the sinking, some groups of people were more likely to survive than others, such as women, children, and the upper-class.\n",
    "\n",
    "## Set-up"
   ]
  },
  {
   "cell_type": "code",
   "execution_count": 194,
   "id": "1f32e967-ee9b-412d-88a8-c7d0cc56e97d",
   "metadata": {},
   "outputs": [],
   "source": [
    "import numpy as np\n",
    "import pandas as pd\n",
    "import matplotlib.pyplot as plt\n",
    "\n",
    "import tensorflow as tf\n",
    "from tensorflow.keras.models import Sequential\n",
    "from tensorflow.keras.layers import Dense, Normalization\n",
    "from tensorflow.keras.regularizers import L2\n",
    "\n",
    "import sklearn\n",
    "from sklearn.linear_model import LogisticRegression\n",
    "from sklearn.preprocessing import StandardScaler\n",
    "\n",
    "from xgboost import XGBClassifier"
   ]
  },
  {
   "cell_type": "markdown",
   "id": "8a071a05-ed5a-4716-971c-4efce44beb3e",
   "metadata": {},
   "source": [
    "## Retrieving data"
   ]
  },
  {
   "cell_type": "code",
   "execution_count": 195,
   "id": "445fd84b-de52-4697-9c8a-54ae4fccb684",
   "metadata": {},
   "outputs": [
    {
     "name": "stdout",
     "output_type": "stream",
     "text": [
      "Index(['PassengerId', 'Survived', 'Pclass', 'Name', 'Sex', 'Age', 'SibSp',\n",
      "       'Parch', 'Ticket', 'Fare', 'Cabin', 'Embarked'],\n",
      "      dtype='object')\n"
     ]
    }
   ],
   "source": [
    "training = pd.read_csv('train.csv')\n",
    "test = pd.read_csv('test.csv')\n",
    "\n",
    "print(training.columns)"
   ]
  },
  {
   "cell_type": "code",
   "execution_count": 196,
   "id": "8f7b86af-b282-4e5e-8abd-1f6e6bfa5c4a",
   "metadata": {},
   "outputs": [
    {
     "data": {
      "text/html": [
       "<div>\n",
       "<style scoped>\n",
       "    .dataframe tbody tr th:only-of-type {\n",
       "        vertical-align: middle;\n",
       "    }\n",
       "\n",
       "    .dataframe tbody tr th {\n",
       "        vertical-align: top;\n",
       "    }\n",
       "\n",
       "    .dataframe thead th {\n",
       "        text-align: right;\n",
       "    }\n",
       "</style>\n",
       "<table border=\"1\" class=\"dataframe\">\n",
       "  <thead>\n",
       "    <tr style=\"text-align: right;\">\n",
       "      <th></th>\n",
       "      <th>PassengerId</th>\n",
       "      <th>Survived</th>\n",
       "      <th>Pclass</th>\n",
       "      <th>Name</th>\n",
       "      <th>Sex</th>\n",
       "      <th>Age</th>\n",
       "      <th>SibSp</th>\n",
       "      <th>Parch</th>\n",
       "      <th>Ticket</th>\n",
       "      <th>Fare</th>\n",
       "      <th>Cabin</th>\n",
       "      <th>Embarked</th>\n",
       "    </tr>\n",
       "  </thead>\n",
       "  <tbody>\n",
       "    <tr>\n",
       "      <th>0</th>\n",
       "      <td>1</td>\n",
       "      <td>0</td>\n",
       "      <td>3</td>\n",
       "      <td>Braund, Mr. Owen Harris</td>\n",
       "      <td>male</td>\n",
       "      <td>22.0</td>\n",
       "      <td>1</td>\n",
       "      <td>0</td>\n",
       "      <td>A/5 21171</td>\n",
       "      <td>7.2500</td>\n",
       "      <td>NaN</td>\n",
       "      <td>S</td>\n",
       "    </tr>\n",
       "    <tr>\n",
       "      <th>1</th>\n",
       "      <td>2</td>\n",
       "      <td>1</td>\n",
       "      <td>1</td>\n",
       "      <td>Cumings, Mrs. John Bradley (Florence Briggs Th...</td>\n",
       "      <td>female</td>\n",
       "      <td>38.0</td>\n",
       "      <td>1</td>\n",
       "      <td>0</td>\n",
       "      <td>PC 17599</td>\n",
       "      <td>71.2833</td>\n",
       "      <td>C85</td>\n",
       "      <td>C</td>\n",
       "    </tr>\n",
       "    <tr>\n",
       "      <th>2</th>\n",
       "      <td>3</td>\n",
       "      <td>1</td>\n",
       "      <td>3</td>\n",
       "      <td>Heikkinen, Miss. Laina</td>\n",
       "      <td>female</td>\n",
       "      <td>26.0</td>\n",
       "      <td>0</td>\n",
       "      <td>0</td>\n",
       "      <td>STON/O2. 3101282</td>\n",
       "      <td>7.9250</td>\n",
       "      <td>NaN</td>\n",
       "      <td>S</td>\n",
       "    </tr>\n",
       "    <tr>\n",
       "      <th>3</th>\n",
       "      <td>4</td>\n",
       "      <td>1</td>\n",
       "      <td>1</td>\n",
       "      <td>Futrelle, Mrs. Jacques Heath (Lily May Peel)</td>\n",
       "      <td>female</td>\n",
       "      <td>35.0</td>\n",
       "      <td>1</td>\n",
       "      <td>0</td>\n",
       "      <td>113803</td>\n",
       "      <td>53.1000</td>\n",
       "      <td>C123</td>\n",
       "      <td>S</td>\n",
       "    </tr>\n",
       "    <tr>\n",
       "      <th>4</th>\n",
       "      <td>5</td>\n",
       "      <td>0</td>\n",
       "      <td>3</td>\n",
       "      <td>Allen, Mr. William Henry</td>\n",
       "      <td>male</td>\n",
       "      <td>35.0</td>\n",
       "      <td>0</td>\n",
       "      <td>0</td>\n",
       "      <td>373450</td>\n",
       "      <td>8.0500</td>\n",
       "      <td>NaN</td>\n",
       "      <td>S</td>\n",
       "    </tr>\n",
       "  </tbody>\n",
       "</table>\n",
       "</div>"
      ],
      "text/plain": [
       "   PassengerId  Survived  Pclass  \\\n",
       "0            1         0       3   \n",
       "1            2         1       1   \n",
       "2            3         1       3   \n",
       "3            4         1       1   \n",
       "4            5         0       3   \n",
       "\n",
       "                                                Name     Sex   Age  SibSp  \\\n",
       "0                            Braund, Mr. Owen Harris    male  22.0      1   \n",
       "1  Cumings, Mrs. John Bradley (Florence Briggs Th...  female  38.0      1   \n",
       "2                             Heikkinen, Miss. Laina  female  26.0      0   \n",
       "3       Futrelle, Mrs. Jacques Heath (Lily May Peel)  female  35.0      1   \n",
       "4                           Allen, Mr. William Henry    male  35.0      0   \n",
       "\n",
       "   Parch            Ticket     Fare Cabin Embarked  \n",
       "0      0         A/5 21171   7.2500   NaN        S  \n",
       "1      0          PC 17599  71.2833   C85        C  \n",
       "2      0  STON/O2. 3101282   7.9250   NaN        S  \n",
       "3      0            113803  53.1000  C123        S  \n",
       "4      0            373450   8.0500   NaN        S  "
      ]
     },
     "execution_count": 196,
     "metadata": {},
     "output_type": "execute_result"
    }
   ],
   "source": [
    "# Preview of the data\n",
    "training.head()"
   ]
  },
  {
   "cell_type": "markdown",
   "id": "69f64cf4-df06-4fd0-a273-3febbe5708fe",
   "metadata": {},
   "source": [
    "**Features with Categorical Values?**\n",
    "- Survived, Sex, Ticket, Embarked, Pclass\n",
    "\n",
    "**Features with Continuous Values?** \n",
    "- PassengerId, Age, SibSp, Parch, Fare\n",
    "\n",
    "**Features with Mixed Data Types?**\n",
    "- Cabin, Ticket\n",
    "\n",
    "Categorical values may have to be converted to numberical values"
   ]
  },
  {
   "cell_type": "markdown",
   "id": "5b2ff9ab-51a5-417a-bd33-f86df0115e4e",
   "metadata": {},
   "source": [
    "## Training Set Information"
   ]
  },
  {
   "cell_type": "code",
   "execution_count": 197,
   "id": "533b7fe8-81eb-4d1c-a716-972a0c0c54c8",
   "metadata": {},
   "outputs": [
    {
     "name": "stdout",
     "output_type": "stream",
     "text": [
      "<class 'pandas.core.frame.DataFrame'>\n",
      "RangeIndex: 891 entries, 0 to 890\n",
      "Data columns (total 12 columns):\n",
      " #   Column       Non-Null Count  Dtype  \n",
      "---  ------       --------------  -----  \n",
      " 0   PassengerId  891 non-null    int64  \n",
      " 1   Survived     891 non-null    int64  \n",
      " 2   Pclass       891 non-null    int64  \n",
      " 3   Name         891 non-null    object \n",
      " 4   Sex          891 non-null    object \n",
      " 5   Age          714 non-null    float64\n",
      " 6   SibSp        891 non-null    int64  \n",
      " 7   Parch        891 non-null    int64  \n",
      " 8   Ticket       891 non-null    object \n",
      " 9   Fare         891 non-null    float64\n",
      " 10  Cabin        204 non-null    object \n",
      " 11  Embarked     889 non-null    object \n",
      "dtypes: float64(2), int64(5), object(5)\n",
      "memory usage: 83.7+ KB\n"
     ]
    }
   ],
   "source": [
    "training.info()"
   ]
  },
  {
   "cell_type": "markdown",
   "id": "8b85e38c-45f0-4694-8624-c64bc28c86ea",
   "metadata": {},
   "source": [
    "**Features with NaN values**\n",
    "- Cabin and Age both have incomplete datasets filled with NaN values, of which has to be dealt with\n",
    "- Age has 177 empty values while Cabin has 687 empty values"
   ]
  },
  {
   "cell_type": "markdown",
   "id": "2a6988e0-bb66-488c-bb23-db539e89343b",
   "metadata": {},
   "source": [
    "**DataType of Features**\n",
    "- 7 features with integers or floats.\n",
    "- 5 features are strings."
   ]
  },
  {
   "cell_type": "markdown",
   "id": "15058325-0709-43b3-a6b8-bf73d168214e",
   "metadata": {
    "tags": []
   },
   "source": [
    "## Training Set Statistics"
   ]
  },
  {
   "cell_type": "markdown",
   "id": "87df9adf-26af-4993-a21d-26b624795c4e",
   "metadata": {},
   "source": [
    "**Distribution of Numerical Features**\n",
    "\n",
    "Early insights that determine if training set is representative of the problem.\n",
    "\n",
    "- 38% Survival Rate, similar to the actual survival rate of 32%.\n",
    "- Number of passengers in the training set is 891, representing 40% of the actual number of people on board.\n",
    "- Most passengers did not come with children or parents (>= 78%)\n",
    "- ~31% of passengers had a sibling or a spouse.\n",
    "- Elderly Passengers (Age 65-80) make up only 1% of passengers\n",
    "- Fares vary widely, with the highest being $512"
   ]
  },
  {
   "cell_type": "code",
   "execution_count": 198,
   "id": "8f9e3f35-6410-4ee6-aaf4-624c378d773e",
   "metadata": {},
   "outputs": [
    {
     "data": {
      "text/html": [
       "<div>\n",
       "<style scoped>\n",
       "    .dataframe tbody tr th:only-of-type {\n",
       "        vertical-align: middle;\n",
       "    }\n",
       "\n",
       "    .dataframe tbody tr th {\n",
       "        vertical-align: top;\n",
       "    }\n",
       "\n",
       "    .dataframe thead th {\n",
       "        text-align: right;\n",
       "    }\n",
       "</style>\n",
       "<table border=\"1\" class=\"dataframe\">\n",
       "  <thead>\n",
       "    <tr style=\"text-align: right;\">\n",
       "      <th></th>\n",
       "      <th>PassengerId</th>\n",
       "      <th>Survived</th>\n",
       "      <th>Pclass</th>\n",
       "      <th>Age</th>\n",
       "      <th>SibSp</th>\n",
       "      <th>Parch</th>\n",
       "      <th>Fare</th>\n",
       "    </tr>\n",
       "  </thead>\n",
       "  <tbody>\n",
       "    <tr>\n",
       "      <th>count</th>\n",
       "      <td>891.000000</td>\n",
       "      <td>891.000000</td>\n",
       "      <td>891.000000</td>\n",
       "      <td>714.000000</td>\n",
       "      <td>891.000000</td>\n",
       "      <td>891.000000</td>\n",
       "      <td>891.000000</td>\n",
       "    </tr>\n",
       "    <tr>\n",
       "      <th>mean</th>\n",
       "      <td>446.000000</td>\n",
       "      <td>0.383838</td>\n",
       "      <td>2.308642</td>\n",
       "      <td>29.699118</td>\n",
       "      <td>0.523008</td>\n",
       "      <td>0.381594</td>\n",
       "      <td>32.204208</td>\n",
       "    </tr>\n",
       "    <tr>\n",
       "      <th>std</th>\n",
       "      <td>257.353842</td>\n",
       "      <td>0.486592</td>\n",
       "      <td>0.836071</td>\n",
       "      <td>14.526497</td>\n",
       "      <td>1.102743</td>\n",
       "      <td>0.806057</td>\n",
       "      <td>49.693429</td>\n",
       "    </tr>\n",
       "    <tr>\n",
       "      <th>min</th>\n",
       "      <td>1.000000</td>\n",
       "      <td>0.000000</td>\n",
       "      <td>1.000000</td>\n",
       "      <td>0.420000</td>\n",
       "      <td>0.000000</td>\n",
       "      <td>0.000000</td>\n",
       "      <td>0.000000</td>\n",
       "    </tr>\n",
       "    <tr>\n",
       "      <th>25%</th>\n",
       "      <td>223.500000</td>\n",
       "      <td>0.000000</td>\n",
       "      <td>2.000000</td>\n",
       "      <td>20.125000</td>\n",
       "      <td>0.000000</td>\n",
       "      <td>0.000000</td>\n",
       "      <td>7.910400</td>\n",
       "    </tr>\n",
       "    <tr>\n",
       "      <th>50%</th>\n",
       "      <td>446.000000</td>\n",
       "      <td>0.000000</td>\n",
       "      <td>3.000000</td>\n",
       "      <td>28.000000</td>\n",
       "      <td>0.000000</td>\n",
       "      <td>0.000000</td>\n",
       "      <td>14.454200</td>\n",
       "    </tr>\n",
       "    <tr>\n",
       "      <th>75%</th>\n",
       "      <td>668.500000</td>\n",
       "      <td>1.000000</td>\n",
       "      <td>3.000000</td>\n",
       "      <td>38.000000</td>\n",
       "      <td>1.000000</td>\n",
       "      <td>0.000000</td>\n",
       "      <td>31.000000</td>\n",
       "    </tr>\n",
       "    <tr>\n",
       "      <th>max</th>\n",
       "      <td>891.000000</td>\n",
       "      <td>1.000000</td>\n",
       "      <td>3.000000</td>\n",
       "      <td>80.000000</td>\n",
       "      <td>8.000000</td>\n",
       "      <td>6.000000</td>\n",
       "      <td>512.329200</td>\n",
       "    </tr>\n",
       "  </tbody>\n",
       "</table>\n",
       "</div>"
      ],
      "text/plain": [
       "       PassengerId    Survived      Pclass         Age       SibSp  \\\n",
       "count   891.000000  891.000000  891.000000  714.000000  891.000000   \n",
       "mean    446.000000    0.383838    2.308642   29.699118    0.523008   \n",
       "std     257.353842    0.486592    0.836071   14.526497    1.102743   \n",
       "min       1.000000    0.000000    1.000000    0.420000    0.000000   \n",
       "25%     223.500000    0.000000    2.000000   20.125000    0.000000   \n",
       "50%     446.000000    0.000000    3.000000   28.000000    0.000000   \n",
       "75%     668.500000    1.000000    3.000000   38.000000    1.000000   \n",
       "max     891.000000    1.000000    3.000000   80.000000    8.000000   \n",
       "\n",
       "            Parch        Fare  \n",
       "count  891.000000  891.000000  \n",
       "mean     0.381594   32.204208  \n",
       "std      0.806057   49.693429  \n",
       "min      0.000000    0.000000  \n",
       "25%      0.000000    7.910400  \n",
       "50%      0.000000   14.454200  \n",
       "75%      0.000000   31.000000  \n",
       "max      6.000000  512.329200  "
      ]
     },
     "execution_count": 198,
     "metadata": {},
     "output_type": "execute_result"
    }
   ],
   "source": [
    "training.describe()\n",
    "# Parch percentiles=[0.75, 0.78]\n",
    "# SibSp percentiles=[0.68, 0.69]\n",
    "# Fare and Age percentiles=[.1, .2, .3, .4, .5, .6, .7, .8, .9, .99]"
   ]
  },
  {
   "cell_type": "markdown",
   "id": "d271148d-456f-4d82-9f6f-21b775ccecd7",
   "metadata": {},
   "source": [
    "**Distribution of Categorical Features**\n",
    "- All names were unique\n",
    "- There were only 2 genders, with 65% being male (577/891)\n",
    "- Cabins could have been shared by passengers due to duplicate values\n",
    "- There were 210 duplicate ticket numbers\n",
    "- S port was used by 72.5% of passengers (644 out of 889 embarked data points)"
   ]
  },
  {
   "cell_type": "code",
   "execution_count": 199,
   "id": "17a15944-1534-4925-8682-d16a58451c1f",
   "metadata": {},
   "outputs": [
    {
     "data": {
      "text/html": [
       "<div>\n",
       "<style scoped>\n",
       "    .dataframe tbody tr th:only-of-type {\n",
       "        vertical-align: middle;\n",
       "    }\n",
       "\n",
       "    .dataframe tbody tr th {\n",
       "        vertical-align: top;\n",
       "    }\n",
       "\n",
       "    .dataframe thead th {\n",
       "        text-align: right;\n",
       "    }\n",
       "</style>\n",
       "<table border=\"1\" class=\"dataframe\">\n",
       "  <thead>\n",
       "    <tr style=\"text-align: right;\">\n",
       "      <th></th>\n",
       "      <th>Name</th>\n",
       "      <th>Sex</th>\n",
       "      <th>Ticket</th>\n",
       "      <th>Cabin</th>\n",
       "      <th>Embarked</th>\n",
       "    </tr>\n",
       "  </thead>\n",
       "  <tbody>\n",
       "    <tr>\n",
       "      <th>count</th>\n",
       "      <td>891</td>\n",
       "      <td>891</td>\n",
       "      <td>891</td>\n",
       "      <td>204</td>\n",
       "      <td>889</td>\n",
       "    </tr>\n",
       "    <tr>\n",
       "      <th>unique</th>\n",
       "      <td>891</td>\n",
       "      <td>2</td>\n",
       "      <td>681</td>\n",
       "      <td>147</td>\n",
       "      <td>3</td>\n",
       "    </tr>\n",
       "    <tr>\n",
       "      <th>top</th>\n",
       "      <td>Braund, Mr. Owen Harris</td>\n",
       "      <td>male</td>\n",
       "      <td>347082</td>\n",
       "      <td>B96 B98</td>\n",
       "      <td>S</td>\n",
       "    </tr>\n",
       "    <tr>\n",
       "      <th>freq</th>\n",
       "      <td>1</td>\n",
       "      <td>577</td>\n",
       "      <td>7</td>\n",
       "      <td>4</td>\n",
       "      <td>644</td>\n",
       "    </tr>\n",
       "  </tbody>\n",
       "</table>\n",
       "</div>"
      ],
      "text/plain": [
       "                           Name   Sex  Ticket    Cabin Embarked\n",
       "count                       891   891     891      204      889\n",
       "unique                      891     2     681      147        3\n",
       "top     Braund, Mr. Owen Harris  male  347082  B96 B98        S\n",
       "freq                          1   577       7        4      644"
      ]
     },
     "execution_count": 199,
     "metadata": {},
     "output_type": "execute_result"
    }
   ],
   "source": [
    "# Show stats for objects only\n",
    "training.describe(include=['O'])"
   ]
  },
  {
   "cell_type": "markdown",
   "id": "726e1ad3-c284-48bf-b115-0dfd2908c671",
   "metadata": {},
   "source": [
    "## Assumptions\n",
    "The following assumptions are derived from the above data analysis as well as intuition and knowledge of the situation. We aim to validate them before proceeding further."
   ]
  },
  {
   "cell_type": "markdown",
   "id": "1834fb3e-3092-408a-9bb4-830c1ecd86ee",
   "metadata": {},
   "source": [
    "**Correlation**\n",
    "\n",
    "Test early for correlation between features and Survival. \n",
    "\n",
    "**Completing**\n",
    "1. Age feature is correlated to survival and should be completed.\n",
    "2. Embarked feature may be correlated to survival and should be completed.\n",
    "\n",
    "**Correcting**\n",
    "1. Due to the number of duplicate tickets and its lack of relevance to survival, it should be removed.\n",
    "2. Cabin feature has too many missing values and may be removed.\n",
    "3. PassengerID has no relation to survival and may be dropped.\n",
    "4. Fare price has no relation to survival and may be dropped. \n",
    "\n",
    "**Creating**\n",
    "1. Creation of new feature 'Family' by combining Parch and SibSp\n",
    "2. Creation of 'Age Bands', a ordinal categorical feature instead of a continuous categorical feature.\n",
    "\n",
    "**Classifying**\n",
    "\n",
    "Adding of assumptions based on problem description.\n",
    "\n",
    "1. Females have a higher survival rate\n",
    "2. Children under a certain age have a higher survival rate\n",
    "3. Upper-class passengers have a higher survival rate"
   ]
  },
  {
   "cell_type": "markdown",
   "id": "488038c0-78b4-4878-b877-1db31a3fa89b",
   "metadata": {},
   "source": [
    "## Analysis of Numerical Features by Correlation"
   ]
  },
  {
   "cell_type": "markdown",
   "id": "91bf9b24-3cc7-4edb-bc68-8927f57f99fc",
   "metadata": {
    "tags": []
   },
   "source": [
    "### Heatmap of Correlation \n",
    "\n",
    "Represents the correlation between survival and non-object type features."
   ]
  },
  {
   "cell_type": "markdown",
   "id": "3a7a93a5-f991-41ce-abfb-746f1f122e2e",
   "metadata": {},
   "source": [
    "#### Assumptions Checked\n",
    "\n",
    "**Reject**:\n",
    "1. Age feature is correlated to survival and should be completed. Age has a low correlation to survival here and should be removed.\n",
    "2. Fare price has no relation to survival and may be dropped. Fare price has shown to have some correlation with survival here and should be kept.\n",
    "2. Creation of new feature 'Family' by combining Parch and SibSp. Both features have low correlation to survival.\n",
    "\n",
    "\n",
    "**Accept**:\n",
    "1. PassengerID has no relation to survival and may be dropped.\n",
    "\n",
    "**In Consideration**\n",
    "1. Upper-class passengers have a higher survival rate. There has been some correlation between class and survival rate\n",
    "\n",
    "\n",
    "**Moving Forward**\n",
    "1. Remove Age and Passenger ID.\n",
    "2. Keep Fare and Pclass as features\n",
    "3. Further test if upper-class Passengers have higher survival rate\n",
    "4. Feature engineer Parch, SibSp "
   ]
  },
  {
   "cell_type": "code",
   "execution_count": 200,
   "id": "cb542bdd-1e88-461b-9f53-50c8c255e0fb",
   "metadata": {},
   "outputs": [
    {
     "data": {
      "image/png": "[encoded data removed]",
      "text/plain": [
       "<Figure size 720x720 with 2 Axes>"
      ]
     },
     "metadata": {
      "needs_background": "light"
     },
     "output_type": "display_data"
    }
   ],
   "source": [
    "def correlation_matrix(df, is_plot=False):\n",
    "    \n",
    "    # Get feature correlations and transform to dataframe\n",
    "    correlated = df.corr(method='pearson')\n",
    "\n",
    "    # Convert to abolute values\n",
    "    abs_correlated = np.abs(correlated) \n",
    "\n",
    "    if is_plot:\n",
    "        plt.figure(figsize=(10, 10))\n",
    "        plt.imshow(abs_correlated, cmap='RdYlGn', interpolation='none', aspect='auto')\n",
    "        plt.colorbar()\n",
    "        plt.xticks(range(len(abs_correlated)), abs_correlated.columns, rotation='vertical')\n",
    "        plt.yticks(range(len(abs_correlated)), abs_correlated.columns);\n",
    "        plt.suptitle('Pearson Correlation Heat Map (absolute values)', fontsize=15, fontweight='bold')\n",
    "        plt.show()\n",
    "\n",
    "    return correlated, abs_correlated\n",
    "\n",
    "# Build the correlation matrix for the training data\n",
    "train_corr, train_abs_corr = correlation_matrix(training, is_plot=True)  "
   ]
  },
  {
   "cell_type": "code",
   "execution_count": 201,
   "id": "c3dd1577-c238-442f-8739-572cb5ec2bc6",
   "metadata": {},
   "outputs": [
    {
     "name": "stdout",
     "output_type": "stream",
     "text": [
      "4 features with low correlation to survival\n",
      "1: 0.005 PassengerId\n",
      "2: 0.0772 Age\n",
      "3: 0.0353 SibSp\n",
      "4: 0.0816 Parch\n",
      "\n",
      "3 features with correlation >= 0.1\n",
      "1: 0.3385 Pclass\n",
      "2: 0.2573 Fare\n"
     ]
    }
   ],
   "source": [
    "MIN_CORR = 0.1\n",
    "survived_corr = train_abs_corr['Survived']\n",
    "\n",
    "# Sort out low correlation features\n",
    "low_corr = survived_corr[survived_corr < MIN_CORR]\n",
    "print(f\"{len(low_corr)} features with low correlation to survival\")\n",
    "for i, v in enumerate(low_corr):\n",
    "    print(f\"{i+1}: {np.round(v, 4)} {low_corr.index[i]}\")\n",
    "\n",
    "    # Sort out high correlation features\n",
    "high_corr = survived_corr[survived_corr >= MIN_CORR]\n",
    "print(f\"\\n{len(high_corr)} features with correlation >= 0.1\")\n",
    "for i, v in enumerate(high_corr[1:]):\n",
    "    print(f\"{i+1}: {np.round(v, 4)} {high_corr.index[i+1]}\")"
   ]
  },
  {
   "cell_type": "markdown",
   "id": "cca91f6b-cd7d-44b0-8e18-f8f2b375a086",
   "metadata": {},
   "source": [
    "## Analysis by Pivoting Features\n",
    "\n",
    "Here, we continue confirming our assumptions and observations by pivoting features against each other. We can only do this for features with no empty values, and target categorical features here such as Sex, Pclass and Embarked.\n",
    "\n",
    "**Pclass**: Upper-class Passengers have a higher survival rate of ~63%, confirming our assumption.\n",
    "\n",
    "**Sex**: Females have a much higher survival rate of 74% as compared to males, confirming our assumption.\n",
    "\n",
    "**Embarked**: Passengers that embarked from C had higher survival rates.\n",
    "\n",
    "**Conclusion**: We keep Sex, Pclass and Embarked in our model."
   ]
  },
  {
   "cell_type": "code",
   "execution_count": 202,
   "id": "3795bb2f-9778-47d4-89b3-461d6c1fdd2e",
   "metadata": {},
   "outputs": [
    {
     "data": {
      "text/html": [
       "<div>\n",
       "<style scoped>\n",
       "    .dataframe tbody tr th:only-of-type {\n",
       "        vertical-align: middle;\n",
       "    }\n",
       "\n",
       "    .dataframe tbody tr th {\n",
       "        vertical-align: top;\n",
       "    }\n",
       "\n",
       "    .dataframe thead th {\n",
       "        text-align: right;\n",
       "    }\n",
       "</style>\n",
       "<table border=\"1\" class=\"dataframe\">\n",
       "  <thead>\n",
       "    <tr style=\"text-align: right;\">\n",
       "      <th></th>\n",
       "      <th>Pclass</th>\n",
       "      <th>Survived</th>\n",
       "    </tr>\n",
       "  </thead>\n",
       "  <tbody>\n",
       "    <tr>\n",
       "      <th>0</th>\n",
       "      <td>1</td>\n",
       "      <td>0.629630</td>\n",
       "    </tr>\n",
       "    <tr>\n",
       "      <th>1</th>\n",
       "      <td>2</td>\n",
       "      <td>0.472826</td>\n",
       "    </tr>\n",
       "    <tr>\n",
       "      <th>2</th>\n",
       "      <td>3</td>\n",
       "      <td>0.242363</td>\n",
       "    </tr>\n",
       "  </tbody>\n",
       "</table>\n",
       "</div>"
      ],
      "text/plain": [
       "   Pclass  Survived\n",
       "0       1  0.629630\n",
       "1       2  0.472826\n",
       "2       3  0.242363"
      ]
     },
     "execution_count": 202,
     "metadata": {},
     "output_type": "execute_result"
    }
   ],
   "source": [
    "# Pivoting Pclass against Survival\n",
    "training[['Pclass', 'Survived']].groupby([\"Pclass\"], as_index=False).mean()"
   ]
  },
  {
   "cell_type": "code",
   "execution_count": 203,
   "id": "949256be-eb0b-40b4-a6be-ed614871110f",
   "metadata": {},
   "outputs": [
    {
     "data": {
      "text/html": [
       "<div>\n",
       "<style scoped>\n",
       "    .dataframe tbody tr th:only-of-type {\n",
       "        vertical-align: middle;\n",
       "    }\n",
       "\n",
       "    .dataframe tbody tr th {\n",
       "        vertical-align: top;\n",
       "    }\n",
       "\n",
       "    .dataframe thead th {\n",
       "        text-align: right;\n",
       "    }\n",
       "</style>\n",
       "<table border=\"1\" class=\"dataframe\">\n",
       "  <thead>\n",
       "    <tr style=\"text-align: right;\">\n",
       "      <th></th>\n",
       "      <th>Sex</th>\n",
       "      <th>Survived</th>\n",
       "    </tr>\n",
       "  </thead>\n",
       "  <tbody>\n",
       "    <tr>\n",
       "      <th>0</th>\n",
       "      <td>female</td>\n",
       "      <td>0.742038</td>\n",
       "    </tr>\n",
       "    <tr>\n",
       "      <th>1</th>\n",
       "      <td>male</td>\n",
       "      <td>0.188908</td>\n",
       "    </tr>\n",
       "  </tbody>\n",
       "</table>\n",
       "</div>"
      ],
      "text/plain": [
       "      Sex  Survived\n",
       "0  female  0.742038\n",
       "1    male  0.188908"
      ]
     },
     "execution_count": 203,
     "metadata": {},
     "output_type": "execute_result"
    }
   ],
   "source": [
    "# Pivoting Sex against Survival\n",
    "training[['Sex', 'Survived']].groupby([\"Sex\"], as_index=False).mean().sort_values(by='Survived', ascending=False)"
   ]
  },
  {
   "cell_type": "code",
   "execution_count": 204,
   "id": "e20d5054-ecf6-42fe-b357-6eeab1c88f0e",
   "metadata": {},
   "outputs": [
    {
     "data": {
      "text/html": [
       "<div>\n",
       "<style scoped>\n",
       "    .dataframe tbody tr th:only-of-type {\n",
       "        vertical-align: middle;\n",
       "    }\n",
       "\n",
       "    .dataframe tbody tr th {\n",
       "        vertical-align: top;\n",
       "    }\n",
       "\n",
       "    .dataframe thead th {\n",
       "        text-align: right;\n",
       "    }\n",
       "</style>\n",
       "<table border=\"1\" class=\"dataframe\">\n",
       "  <thead>\n",
       "    <tr style=\"text-align: right;\">\n",
       "      <th></th>\n",
       "      <th>Embarked</th>\n",
       "      <th>Survived</th>\n",
       "    </tr>\n",
       "  </thead>\n",
       "  <tbody>\n",
       "    <tr>\n",
       "      <th>0</th>\n",
       "      <td>C</td>\n",
       "      <td>0.553571</td>\n",
       "    </tr>\n",
       "    <tr>\n",
       "      <th>1</th>\n",
       "      <td>Q</td>\n",
       "      <td>0.389610</td>\n",
       "    </tr>\n",
       "    <tr>\n",
       "      <th>2</th>\n",
       "      <td>S</td>\n",
       "      <td>0.336957</td>\n",
       "    </tr>\n",
       "  </tbody>\n",
       "</table>\n",
       "</div>"
      ],
      "text/plain": [
       "  Embarked  Survived\n",
       "0        C  0.553571\n",
       "1        Q  0.389610\n",
       "2        S  0.336957"
      ]
     },
     "execution_count": 204,
     "metadata": {},
     "output_type": "execute_result"
    }
   ],
   "source": [
    "# Pivoting Embarked against Survival\n",
    "training[['Embarked', 'Survived']].groupby(['Embarked'], as_index=False).mean().sort_values(by='Survived', ascending=False)"
   ]
  },
  {
   "cell_type": "markdown",
   "id": "535767c6-45dc-427d-958b-5aadf12738c5",
   "metadata": {},
   "source": [
    "## Data Wrangling\n",
    "Now that we have confirmed our observations and assumptions, we can start modifying features to achieve our goals of correcting and completing."
   ]
  },
  {
   "cell_type": "markdown",
   "id": "d4fc3868-8ba7-4ab6-93a5-5ad8574b9ef2",
   "metadata": {},
   "source": [
    "### Correcting by dropping features\n",
    "Here we remove features that we deemed to have little to no correlation with survival. This includes Age, Passenger ID, Parch, SibSp, ticket, and cabin."
   ]
  },
  {
   "cell_type": "code",
   "execution_count": 205,
   "id": "9138e4f8-c5b8-486b-8e97-08ccb46f1884",
   "metadata": {},
   "outputs": [
    {
     "name": "stdout",
     "output_type": "stream",
     "text": [
      "Training before correction: (891, 12)\n",
      "Test before correction: (418, 11)\n",
      "Training after correction: (891, 4)\n",
      "Test after correction: (418, 4)\n"
     ]
    },
    {
     "data": {
      "text/html": [
       "<div>\n",
       "<style scoped>\n",
       "    .dataframe tbody tr th:only-of-type {\n",
       "        vertical-align: middle;\n",
       "    }\n",
       "\n",
       "    .dataframe tbody tr th {\n",
       "        vertical-align: top;\n",
       "    }\n",
       "\n",
       "    .dataframe thead th {\n",
       "        text-align: right;\n",
       "    }\n",
       "</style>\n",
       "<table border=\"1\" class=\"dataframe\">\n",
       "  <thead>\n",
       "    <tr style=\"text-align: right;\">\n",
       "      <th></th>\n",
       "      <th>Pclass</th>\n",
       "      <th>Sex</th>\n",
       "      <th>Fare</th>\n",
       "      <th>Embarked</th>\n",
       "    </tr>\n",
       "  </thead>\n",
       "  <tbody>\n",
       "    <tr>\n",
       "      <th>0</th>\n",
       "      <td>3</td>\n",
       "      <td>male</td>\n",
       "      <td>7.2500</td>\n",
       "      <td>S</td>\n",
       "    </tr>\n",
       "    <tr>\n",
       "      <th>1</th>\n",
       "      <td>1</td>\n",
       "      <td>female</td>\n",
       "      <td>71.2833</td>\n",
       "      <td>C</td>\n",
       "    </tr>\n",
       "    <tr>\n",
       "      <th>2</th>\n",
       "      <td>3</td>\n",
       "      <td>female</td>\n",
       "      <td>7.9250</td>\n",
       "      <td>S</td>\n",
       "    </tr>\n",
       "    <tr>\n",
       "      <th>3</th>\n",
       "      <td>1</td>\n",
       "      <td>female</td>\n",
       "      <td>53.1000</td>\n",
       "      <td>S</td>\n",
       "    </tr>\n",
       "    <tr>\n",
       "      <th>4</th>\n",
       "      <td>3</td>\n",
       "      <td>male</td>\n",
       "      <td>8.0500</td>\n",
       "      <td>S</td>\n",
       "    </tr>\n",
       "    <tr>\n",
       "      <th>...</th>\n",
       "      <td>...</td>\n",
       "      <td>...</td>\n",
       "      <td>...</td>\n",
       "      <td>...</td>\n",
       "    </tr>\n",
       "    <tr>\n",
       "      <th>886</th>\n",
       "      <td>2</td>\n",
       "      <td>male</td>\n",
       "      <td>13.0000</td>\n",
       "      <td>S</td>\n",
       "    </tr>\n",
       "    <tr>\n",
       "      <th>887</th>\n",
       "      <td>1</td>\n",
       "      <td>female</td>\n",
       "      <td>30.0000</td>\n",
       "      <td>S</td>\n",
       "    </tr>\n",
       "    <tr>\n",
       "      <th>888</th>\n",
       "      <td>3</td>\n",
       "      <td>female</td>\n",
       "      <td>23.4500</td>\n",
       "      <td>S</td>\n",
       "    </tr>\n",
       "    <tr>\n",
       "      <th>889</th>\n",
       "      <td>1</td>\n",
       "      <td>male</td>\n",
       "      <td>30.0000</td>\n",
       "      <td>C</td>\n",
       "    </tr>\n",
       "    <tr>\n",
       "      <th>890</th>\n",
       "      <td>3</td>\n",
       "      <td>male</td>\n",
       "      <td>7.7500</td>\n",
       "      <td>Q</td>\n",
       "    </tr>\n",
       "  </tbody>\n",
       "</table>\n",
       "<p>891 rows × 4 columns</p>\n",
       "</div>"
      ],
      "text/plain": [
       "     Pclass     Sex     Fare Embarked\n",
       "0         3    male   7.2500        S\n",
       "1         1  female  71.2833        C\n",
       "2         3  female   7.9250        S\n",
       "3         1  female  53.1000        S\n",
       "4         3    male   8.0500        S\n",
       "..      ...     ...      ...      ...\n",
       "886       2    male  13.0000        S\n",
       "887       1  female  30.0000        S\n",
       "888       3  female  23.4500        S\n",
       "889       1    male  30.0000        C\n",
       "890       3    male   7.7500        Q\n",
       "\n",
       "[891 rows x 4 columns]"
      ]
     },
     "execution_count": 205,
     "metadata": {},
     "output_type": "execute_result"
    }
   ],
   "source": [
    "print(f\"Training before correction: {training.shape}\")\n",
    "print(f\"Test before correction: {test.shape}\")\n",
    "\n",
    "new_train = training.drop([\"Name\", \"Age\", \"PassengerId\", \"Parch\", \"SibSp\", \"Ticket\", \"Cabin\"], axis=1)\n",
    "new_test = test.drop([\"Name\", \"Age\", \"PassengerId\", \"Parch\", \"SibSp\", \"Ticket\", \"Cabin\"], axis=1)\n",
    "\n",
    "# Split training set into features X_train and target Y_train\n",
    "X_train = new_train.drop([\"Survived\"], axis=1)\n",
    "y_train = new_train[\"Survived\"]\n",
    "\n",
    "print(f\"Training after correction: {X_train.shape}\")\n",
    "print(f\"Test after correction: {new_test.shape}\")\n",
    "\n",
    "X_train"
   ]
  },
  {
   "cell_type": "markdown",
   "id": "552ef2bd-38fb-4ba0-ac84-ba1ff4667e9f",
   "metadata": {
    "tags": []
   },
   "source": [
    "### Converting catgeorical features\n",
    "We convert categorical features which contains strings into numerical features.\n",
    "\n",
    "We begim by converting male to 0 and female to 1"
   ]
  },
  {
   "cell_type": "code",
   "execution_count": 206,
   "id": "3de0ad53-c051-4aed-9c1a-2b7a1ab417c0",
   "metadata": {},
   "outputs": [
    {
     "data": {
      "text/html": [
       "<div>\n",
       "<style scoped>\n",
       "    .dataframe tbody tr th:only-of-type {\n",
       "        vertical-align: middle;\n",
       "    }\n",
       "\n",
       "    .dataframe tbody tr th {\n",
       "        vertical-align: top;\n",
       "    }\n",
       "\n",
       "    .dataframe thead th {\n",
       "        text-align: right;\n",
       "    }\n",
       "</style>\n",
       "<table border=\"1\" class=\"dataframe\">\n",
       "  <thead>\n",
       "    <tr style=\"text-align: right;\">\n",
       "      <th></th>\n",
       "      <th>Pclass</th>\n",
       "      <th>Sex</th>\n",
       "      <th>Fare</th>\n",
       "      <th>Embarked</th>\n",
       "    </tr>\n",
       "  </thead>\n",
       "  <tbody>\n",
       "    <tr>\n",
       "      <th>0</th>\n",
       "      <td>3</td>\n",
       "      <td>0</td>\n",
       "      <td>7.2500</td>\n",
       "      <td>S</td>\n",
       "    </tr>\n",
       "    <tr>\n",
       "      <th>1</th>\n",
       "      <td>1</td>\n",
       "      <td>1</td>\n",
       "      <td>71.2833</td>\n",
       "      <td>C</td>\n",
       "    </tr>\n",
       "    <tr>\n",
       "      <th>2</th>\n",
       "      <td>3</td>\n",
       "      <td>1</td>\n",
       "      <td>7.9250</td>\n",
       "      <td>S</td>\n",
       "    </tr>\n",
       "    <tr>\n",
       "      <th>3</th>\n",
       "      <td>1</td>\n",
       "      <td>1</td>\n",
       "      <td>53.1000</td>\n",
       "      <td>S</td>\n",
       "    </tr>\n",
       "    <tr>\n",
       "      <th>4</th>\n",
       "      <td>3</td>\n",
       "      <td>0</td>\n",
       "      <td>8.0500</td>\n",
       "      <td>S</td>\n",
       "    </tr>\n",
       "    <tr>\n",
       "      <th>...</th>\n",
       "      <td>...</td>\n",
       "      <td>...</td>\n",
       "      <td>...</td>\n",
       "      <td>...</td>\n",
       "    </tr>\n",
       "    <tr>\n",
       "      <th>886</th>\n",
       "      <td>2</td>\n",
       "      <td>0</td>\n",
       "      <td>13.0000</td>\n",
       "      <td>S</td>\n",
       "    </tr>\n",
       "    <tr>\n",
       "      <th>887</th>\n",
       "      <td>1</td>\n",
       "      <td>1</td>\n",
       "      <td>30.0000</td>\n",
       "      <td>S</td>\n",
       "    </tr>\n",
       "    <tr>\n",
       "      <th>888</th>\n",
       "      <td>3</td>\n",
       "      <td>1</td>\n",
       "      <td>23.4500</td>\n",
       "      <td>S</td>\n",
       "    </tr>\n",
       "    <tr>\n",
       "      <th>889</th>\n",
       "      <td>1</td>\n",
       "      <td>0</td>\n",
       "      <td>30.0000</td>\n",
       "      <td>C</td>\n",
       "    </tr>\n",
       "    <tr>\n",
       "      <th>890</th>\n",
       "      <td>3</td>\n",
       "      <td>0</td>\n",
       "      <td>7.7500</td>\n",
       "      <td>Q</td>\n",
       "    </tr>\n",
       "  </tbody>\n",
       "</table>\n",
       "<p>891 rows × 4 columns</p>\n",
       "</div>"
      ],
      "text/plain": [
       "     Pclass  Sex     Fare Embarked\n",
       "0         3    0   7.2500        S\n",
       "1         1    1  71.2833        C\n",
       "2         3    1   7.9250        S\n",
       "3         1    1  53.1000        S\n",
       "4         3    0   8.0500        S\n",
       "..      ...  ...      ...      ...\n",
       "886       2    0  13.0000        S\n",
       "887       1    1  30.0000        S\n",
       "888       3    1  23.4500        S\n",
       "889       1    0  30.0000        C\n",
       "890       3    0   7.7500        Q\n",
       "\n",
       "[891 rows x 4 columns]"
      ]
     },
     "execution_count": 206,
     "metadata": {},
     "output_type": "execute_result"
    }
   ],
   "source": [
    "combine = [X_train, new_test]\n",
    "\n",
    "for df in combine:\n",
    "    df['Sex'] = df['Sex'].map({'female': 1, 'male': 0}).astype(int)\n",
    "    \n",
    "X_train"
   ]
  },
  {
   "cell_type": "markdown",
   "id": "c4fcb024-e3bb-452b-8307-0a0a8615b7e0",
   "metadata": {},
   "source": [
    "### Completing and converting categorical feature\n",
    "Here, we fill up empty data points in our dataset. This is solely pertaining to the Embarked feature that has 2 missing values, of which we will fill using the most frequent port as seen from Training Information, port S.\n",
    "\n",
    "We then convert it to a numeric feature, whereby C is 1, Q is 2 and S is 0."
   ]
  },
  {
   "cell_type": "code",
   "execution_count": 207,
   "id": "27b55c71-27be-4bd7-bd27-a9ce98a3c105",
   "metadata": {},
   "outputs": [
    {
     "data": {
      "text/plain": [
       "0      S\n",
       "1      C\n",
       "2      S\n",
       "3      S\n",
       "4      S\n",
       "      ..\n",
       "886    S\n",
       "887    S\n",
       "888    S\n",
       "889    C\n",
       "890    Q\n",
       "Name: Embarked, Length: 891, dtype: object"
      ]
     },
     "execution_count": 207,
     "metadata": {},
     "output_type": "execute_result"
    }
   ],
   "source": [
    "for df in combine:\n",
    "    df['Embarked'] = df['Embarked'].fillna('S')\n",
    "\n",
    "    \n",
    "X_train['Embarked']"
   ]
  },
  {
   "cell_type": "code",
   "execution_count": 208,
   "id": "d3848856-f840-41d6-8cb7-a96163b62282",
   "metadata": {},
   "outputs": [],
   "source": [
    "for df in combine:\n",
    "     df['Embarked'] = df['Embarked'].map( {'S': 0, 'C': 1, 'Q': 2} ).astype(int)"
   ]
  },
  {
   "cell_type": "code",
   "execution_count": 209,
   "id": "e2fdf477-81aa-4b6b-afd5-253a99bcebad",
   "metadata": {},
   "outputs": [
    {
     "name": "stdout",
     "output_type": "stream",
     "text": [
      "<class 'pandas.core.frame.DataFrame'>\n",
      "RangeIndex: 891 entries, 0 to 890\n",
      "Data columns (total 4 columns):\n",
      " #   Column    Non-Null Count  Dtype  \n",
      "---  ------    --------------  -----  \n",
      " 0   Pclass    891 non-null    int64  \n",
      " 1   Sex       891 non-null    int64  \n",
      " 2   Fare      891 non-null    float64\n",
      " 3   Embarked  891 non-null    int64  \n",
      "dtypes: float64(1), int64(3)\n",
      "memory usage: 28.0 KB\n"
     ]
    }
   ],
   "source": [
    "X_train.info()"
   ]
  },
  {
   "cell_type": "markdown",
   "id": "84c02bad-6de1-4f43-9d84-f2850fd30071",
   "metadata": {},
   "source": [
    "## Modelling and Predicting\n",
    "The problem at hand is a classificiation problem to determine whether a passenger will survive based on a given set of features. As we have both features and ground truth labels to determine whether a passenger survived or not, we narrow down our possible machine learning algorithms to:\n",
    "\n",
    "- Neural Network with Sigmoid Activation\n",
    "- Logistic Regression\n",
    "- Boosted Trees\n",
    "\n",
    "Cost will be measured as the fraction of incorrect predictions. We will test all 5 algorithms and select the one with the lowest cost"
   ]
  },
  {
   "cell_type": "markdown",
   "id": "acf3d834-01b0-4ebc-816a-305a9622c5cd",
   "metadata": {},
   "source": [
    "### Neural Network\n",
    "\n",
    "For optimization, output output layer uses a linear activation but loss function is set to BinaryCrossentropy."
   ]
  },
  {
   "cell_type": "code",
   "execution_count": 210,
   "id": "3ea5bec1-4ff7-4ffe-bc7e-b427aa51a3b5",
   "metadata": {
    "scrolled": true,
    "tags": []
   },
   "outputs": [
    {
     "name": "stdout",
     "output_type": "stream",
     "text": [
      "Epoch 1/50\n",
      " 9/28 [========>.....................] - ETA: 0s - loss: 4.2429"
     ]
    },
    {
     "name": "stderr",
     "output_type": "stream",
     "text": [
      "2022-07-10 20:54:36.701819: I tensorflow/core/grappler/optimizers/custom_graph_optimizer_registry.cc:113] Plugin optimizer for device_type GPU is enabled.\n"
     ]
    },
    {
     "name": "stdout",
     "output_type": "stream",
     "text": [
      "28/28 [==============================] - 0s 7ms/step - loss: 2.4567\n",
      "Epoch 2/50\n",
      "28/28 [==============================] - 0s 5ms/step - loss: 0.8293\n",
      "Epoch 3/50\n",
      "28/28 [==============================] - 0s 5ms/step - loss: 0.6872\n",
      "Epoch 4/50\n",
      "28/28 [==============================] - 0s 5ms/step - loss: 0.6675\n",
      "Epoch 5/50\n",
      "28/28 [==============================] - 0s 5ms/step - loss: 0.6609\n",
      "Epoch 6/50\n",
      "28/28 [==============================] - 0s 5ms/step - loss: 0.6612\n",
      "Epoch 7/50\n",
      "28/28 [==============================] - 0s 5ms/step - loss: 0.6606\n",
      "Epoch 8/50\n",
      "28/28 [==============================] - 0s 6ms/step - loss: 0.6594\n",
      "Epoch 9/50\n",
      "28/28 [==============================] - 0s 5ms/step - loss: 0.6616\n",
      "Epoch 10/50\n",
      "28/28 [==============================] - 0s 5ms/step - loss: 0.6596\n",
      "Epoch 11/50\n",
      "28/28 [==============================] - 0s 6ms/step - loss: 0.6613\n",
      "Epoch 12/50\n",
      "28/28 [==============================] - 0s 5ms/step - loss: 0.6608\n",
      "Epoch 13/50\n",
      "28/28 [==============================] - 0s 5ms/step - loss: 0.6598\n",
      "Epoch 14/50\n",
      "28/28 [==============================] - 0s 5ms/step - loss: 0.6594\n",
      "Epoch 15/50\n",
      "28/28 [==============================] - 0s 5ms/step - loss: 0.6597\n",
      "Epoch 16/50\n",
      "28/28 [==============================] - 0s 5ms/step - loss: 0.6592\n",
      "Epoch 17/50\n",
      "28/28 [==============================] - 0s 5ms/step - loss: 0.6610\n",
      "Epoch 18/50\n",
      "28/28 [==============================] - 0s 5ms/step - loss: 0.6607\n",
      "Epoch 19/50\n",
      "28/28 [==============================] - 0s 5ms/step - loss: 0.6586\n",
      "Epoch 20/50\n",
      "28/28 [==============================] - 0s 5ms/step - loss: 0.6615\n",
      "Epoch 21/50\n",
      "28/28 [==============================] - 0s 5ms/step - loss: 0.6602\n",
      "Epoch 22/50\n",
      "28/28 [==============================] - 0s 5ms/step - loss: 0.6632\n",
      "Epoch 23/50\n",
      "28/28 [==============================] - 0s 5ms/step - loss: 0.6621\n",
      "Epoch 24/50\n",
      "28/28 [==============================] - 0s 5ms/step - loss: 0.6617\n",
      "Epoch 25/50\n",
      "28/28 [==============================] - 0s 5ms/step - loss: 0.6613\n",
      "Epoch 26/50\n",
      "28/28 [==============================] - 0s 5ms/step - loss: 0.6645\n",
      "Epoch 27/50\n",
      "28/28 [==============================] - 0s 5ms/step - loss: 0.6616\n",
      "Epoch 28/50\n",
      "28/28 [==============================] - 0s 5ms/step - loss: 0.6594\n",
      "Epoch 29/50\n",
      "28/28 [==============================] - 0s 5ms/step - loss: 0.6619\n",
      "Epoch 30/50\n",
      "28/28 [==============================] - 0s 5ms/step - loss: 0.6609\n",
      "Epoch 31/50\n",
      "28/28 [==============================] - 0s 5ms/step - loss: 0.6736\n",
      "Epoch 32/50\n",
      "28/28 [==============================] - 0s 5ms/step - loss: 0.6611\n",
      "Epoch 33/50\n",
      "28/28 [==============================] - 0s 5ms/step - loss: 0.6612\n",
      "Epoch 34/50\n",
      "28/28 [==============================] - 0s 5ms/step - loss: 0.6593\n",
      "Epoch 35/50\n",
      "28/28 [==============================] - 0s 5ms/step - loss: 0.6606\n",
      "Epoch 36/50\n",
      "28/28 [==============================] - 0s 6ms/step - loss: 0.6605\n",
      "Epoch 37/50\n",
      "28/28 [==============================] - 0s 5ms/step - loss: 0.6636\n",
      "Epoch 38/50\n",
      "28/28 [==============================] - 0s 5ms/step - loss: 0.6606\n",
      "Epoch 39/50\n",
      "28/28 [==============================] - 0s 5ms/step - loss: 0.6615\n",
      "Epoch 40/50\n",
      "28/28 [==============================] - 0s 5ms/step - loss: 0.6592\n",
      "Epoch 41/50\n",
      "28/28 [==============================] - 0s 5ms/step - loss: 0.6623\n",
      "Epoch 42/50\n",
      "28/28 [==============================] - 0s 5ms/step - loss: 0.6602\n",
      "Epoch 43/50\n",
      "28/28 [==============================] - 0s 5ms/step - loss: 0.6612\n",
      "Epoch 44/50\n",
      "28/28 [==============================] - 0s 5ms/step - loss: 0.6585\n",
      "Epoch 45/50\n",
      "28/28 [==============================] - 0s 5ms/step - loss: 0.6641\n",
      "Epoch 46/50\n",
      "28/28 [==============================] - 0s 5ms/step - loss: 0.6621\n",
      "Epoch 47/50\n",
      "28/28 [==============================] - 0s 5ms/step - loss: 0.6606\n",
      "Epoch 48/50\n",
      "28/28 [==============================] - 0s 5ms/step - loss: 0.6602\n",
      "Epoch 49/50\n",
      "28/28 [==============================] - 0s 5ms/step - loss: 0.6651\n",
      "Epoch 50/50\n",
      "28/28 [==============================] - 0s 5ms/step - loss: 0.6614\n"
     ]
    },
    {
     "data": {
      "text/plain": [
       "<keras.callbacks.History at 0x29a8bf5e0>"
      ]
     },
     "execution_count": 210,
     "metadata": {},
     "output_type": "execute_result"
    }
   ],
   "source": [
    "# Initiliaze model with layers\n",
    "neural_model = Sequential([\n",
    "            Dense(units=50, activation='relu', name='L1', kernel_regularizer=L2(0.2)),\n",
    "            Dense(units=15, activation='relu', name='L2', kernel_regularizer=L2(0.2)),\n",
    "            Dense(units=1, activation='linear', name='L3', kernel_regularizer=L2(0.2))\n",
    "          ])\n",
    "\n",
    "neural_model.compile(loss=tf.keras.losses.BinaryCrossentropy(from_logits=True),\n",
    "                     optimizer=tf.keras.optimizers.Adam(learning_rate=0.03))\n",
    "\n",
    "neural_model.fit(X_train, y_train, epochs=50)"
   ]
  },
  {
   "cell_type": "code",
   "execution_count": 211,
   "id": "901fb9f9-fae3-41f5-b1f9-5de62fd8cb4a",
   "metadata": {},
   "outputs": [],
   "source": [
    "y_train_np = y_train.to_numpy() \n",
    "y_train_np = y_train_np.reshape((-1, 1))"
   ]
  },
  {
   "cell_type": "code",
   "execution_count": 212,
   "id": "c73ea836-5989-41b1-b8b5-05f301c9e789",
   "metadata": {},
   "outputs": [
    {
     "name": "stdout",
     "output_type": "stream",
     "text": [
      "28/28 [==============================] - 0s 2ms/step\n",
      "The training error for Neural network is 0.3838383838383838\n"
     ]
    },
    {
     "name": "stderr",
     "output_type": "stream",
     "text": [
      "2022-07-10 20:54:44.151129: I tensorflow/core/grappler/optimizers/custom_graph_optimizer_registry.cc:113] Plugin optimizer for device_type GPU is enabled.\n"
     ]
    }
   ],
   "source": [
    "neural_predictions = neural_model.predict(Xn)\n",
    "\n",
    "# Convert to Sigmoid values\n",
    "neural_yhat = tf.nn.sigmoid(neural_predictions).numpy()\n",
    "\n",
    "# Set threshold\n",
    "neural_yhat = (neural_yhat >= 0.5).astype(int)\n",
    "\n",
    "# Calculate training error\n",
    "neural_error = len(neural_yhat[neural_yhat!=y_train_np]) / len(y_train_np)\n",
    "print(f\"The training error for Neural network is {neural_error}\")"
   ]
  },
  {
   "cell_type": "markdown",
   "id": "f8fd1566-6687-4b4c-b535-7fe741b49f0b",
   "metadata": {},
   "source": [
    "### Logistic Regression"
   ]
  },
  {
   "cell_type": "code",
   "execution_count": 213,
   "id": "2dcc73de-4073-49ab-a7ee-ff31afc2c5fa",
   "metadata": {},
   "outputs": [
    {
     "name": "stdout",
     "output_type": "stream",
     "text": [
      "The training error for Logistic Regression is 0.22334455667789002\n"
     ]
    },
    {
     "name": "stderr",
     "output_type": "stream",
     "text": [
      "/Library/Frameworks/Python.framework/Versions/3.10/lib/python3.10/site-packages/sklearn/base.py:450: UserWarning: X does not have valid feature names, but LogisticRegression was fitted with feature names\n",
      "  warnings.warn(\n"
     ]
    }
   ],
   "source": [
    "logreg = LogisticRegression()\n",
    "logreg.fit(X_train, y_train)\n",
    "log_predictions = logreg.predict(Xn)\n",
    "\n",
    "log_error = len(log_predictions[log_predictions!=y_train.to_numpy()]) / len(y_train)\n",
    "print(f\"The training error for Logistic Regression is {log_error}\")"
   ]
  },
  {
   "cell_type": "markdown",
   "id": "7b1e479d-9c8e-4b38-ac0f-7e4884043348",
   "metadata": {},
   "source": [
    "### Boosted Trees"
   ]
  },
  {
   "cell_type": "code",
   "execution_count": 214,
   "id": "0c8b7f5f-7bc5-42cd-9d07-c0711ff624f6",
   "metadata": {},
   "outputs": [
    {
     "name": "stdout",
     "output_type": "stream",
     "text": [
      "The training error for Boosted Trees is 0.10101010101010101\n"
     ]
    }
   ],
   "source": [
    "tree = XGBClassifier()\n",
    "tree.fit(X_train, y_train)\n",
    "tree_pred = tree.predict(X_train)\n",
    "\n",
    "log_error = len(tree_pred[tree_pred!=y_train.to_numpy()]) / len(y_train)\n",
    "print(f\"The training error for Boosted Trees is {log_error}\")"
   ]
  },
  {
   "cell_type": "markdown",
   "id": "7d2a95a6-3aa7-4706-a62c-77d4afc21619",
   "metadata": {},
   "source": [
    "**Conclusion for model selection**\n",
    "We ultimately pick Boosted Trees as the most appropriate model due to it having the lowest training error out of the 3 models. However, further diagnosis could have been done on the Neural Network and Logistic Regression such as Bias/Variance Analysis in order to better fit the model."
   ]
  },
  {
   "cell_type": "markdown",
   "id": "d887eabc-c844-489e-a043-6af9574cb022",
   "metadata": {},
   "source": [
    "## Diagnosis of Model\n",
    "\n",
    "Currently, the model has a score of 0.76555 on Kaggle, meaning that our test error is around 0.24. That is ~2.5x the training error and might hint that our model is currently overfit. There are a few methods we can consider to diagnose this problem\n",
    "\n",
    "1. Increasing the data set\n",
    "2. Decrease number of features\n",
    "3. Increase regularisation\n",
    "\n",
    "For Trees, we can consider options 1 and 2, but there is insufficient data to increase the training data set. As such, we can instead improve the Fare feature by converting it from a continuous value feature to a ranged one.\n",
    "\n",
    "As the Fare feature has 891 data points, we take intervals of 34 and check for the information gain of the current range. The highest information gain will then become a new feature.\n",
    "\n",
    "**Select Fare Range**: Fare <= 52\n",
    "- This however has the limitation of being measured at the root node.\n",
    "- if Fare <= 52, 0. Else, 1.\n"
   ]
  },
  {
   "cell_type": "code",
   "execution_count": 217,
   "id": "45da9e5c-36a5-44cf-9f5b-b6aa7ee6d52f",
   "metadata": {},
   "outputs": [
    {
     "data": {
      "text/plain": [
       "count    891.000000\n",
       "mean      32.204208\n",
       "std       49.693429\n",
       "min        0.000000\n",
       "10%        7.550000\n",
       "20%        7.854200\n",
       "30%        8.050000\n",
       "40%       10.500000\n",
       "50%       14.454200\n",
       "60%       21.679200\n",
       "70%       27.000000\n",
       "80%       39.687500\n",
       "90%       77.958300\n",
       "99%      249.006220\n",
       "max      512.329200\n",
       "Name: Fare, dtype: float64"
      ]
     },
     "execution_count": 217,
     "metadata": {},
     "output_type": "execute_result"
    }
   ],
   "source": [
    "X_train[\"Fare\"].describe(percentiles=[.1, .2, .3, .4, .5, .6, .7, .8, .9, .99])"
   ]
  },
  {
   "cell_type": "code",
   "execution_count": 218,
   "id": "35c4c014-bd4f-4a83-af53-7e52b9a53637",
   "metadata": {},
   "outputs": [],
   "source": [
    "# Calculate entrop at a node\n",
    "def entropy(y):\n",
    "    entropy = 0\n",
    "    \n",
    "    # If empty, return 0\n",
    "    if len(y) == 0:\n",
    "        return 0 \n",
    "    \n",
    "    # Fraction of positive labels\n",
    "    p1 = len(y[y==1]) / len(y)\n",
    "    \n",
    "    \n",
    "    if p1 != 0 and p1 != 1:\n",
    "        entropy = - p1 * np.log2(p1) - (1 - p1) * np.log2(1 - p1)\n",
    "        \n",
    "    else:\n",
    "        entropy = 0\n",
    "    \n",
    "    return entropy    \n",
    "\n",
    "# Splitting a node into two nodes based on a range \n",
    "def split(X, node_indices, value):\n",
    "    left = []\n",
    "    right = []\n",
    "    \n",
    "    for i in node_indices:\n",
    "        if X[i] <= value:\n",
    "            left.append(i)\n",
    "            \n",
    "        else:\n",
    "            right.append(i)\n",
    "            \n",
    "    return left, right\n",
    "\n",
    "# Calculate info gain at a node\n",
    "def infogain(X, y, node_indices, value):\n",
    "    left, right = split(X, node_indices, value)\n",
    "    \n",
    "    X_node, y_node = X[node_indices], y[node_indices]\n",
    "    X_left, y_left = X[left], y[left]\n",
    "    X_right, y_right = X[right], y[right]\n",
    "    \n",
    "    info_gain = 0\n",
    "    \n",
    "    # Compute weights\n",
    "    left_weight = len(y_left) / len(y_node)\n",
    "    right_weight = len(y_right) / len(y_node)\n",
    "    \n",
    "    # Compute weighted entropy for both nodes\n",
    "    left_ent = left_weight * entropy(y_left)\n",
    "    right_ent = right_weight * entropy(y_right)\n",
    "    \n",
    "    # Compute info gain\n",
    "    info_gain = entropy(y_node) - (left_ent + right_ent)\n",
    "    \n",
    "    return info_gain\n",
    "    "
   ]
  },
  {
   "cell_type": "code",
   "execution_count": 219,
   "id": "93105185-b544-4866-b456-b38361dbf097",
   "metadata": {},
   "outputs": [
    {
     "name": "stdout",
     "output_type": "stream",
     "text": [
      "Fare <= [52.] has the best information gain of 0.04800267460011087\n"
     ]
    }
   ],
   "source": [
    "# Evaluating each range of value's information gain\n",
    "fare = X_train['Fare'].to_numpy().reshape(-1, 1)\n",
    "y_fare = y_train.to_numpy()\n",
    "\n",
    "score = 0\n",
    "feature_val = 0\n",
    "\n",
    "for i in range(0, 891, 35):\n",
    "    info_gain = infogain(fare, y_fare, range(0, 891), i)\n",
    "    if info_gain > score:\n",
    "        score = info_gain\n",
    "        feature_val = fare[i]\n",
    "        \n",
    "print(f\"Fare <= {feature_val} has the best information gain of {score}\")\n",
    "    \n",
    "        "
   ]
  },
  {
   "cell_type": "code",
   "execution_count": 224,
   "id": "0b996034-3edb-4083-ae32-eecc6e7e9c2d",
   "metadata": {},
   "outputs": [],
   "source": [
    "# Converting Fare feature to a binary one\n",
    "for df in combine:\n",
    "    df.loc[df[\"Fare\"] <= 52, 'Fare'] = 0\n",
    "    df.loc[df[\"Fare\"] > 52, 'Fare'] = 1"
   ]
  },
  {
   "cell_type": "markdown",
   "id": "0afaf5b9-e112-40d8-a755-5174b80a837e",
   "metadata": {},
   "source": [
    "## Retraining of Boosted Trees\n",
    "\n",
    "Using the newly engineered Fare range feature, we retrain the boosted tree and test for its error"
   ]
  },
  {
   "cell_type": "code",
   "execution_count": 227,
   "id": "5ece7b44-0df3-4101-b40d-30b36c260725",
   "metadata": {},
   "outputs": [
    {
     "name": "stdout",
     "output_type": "stream",
     "text": [
      "The training error for Boosted Trees is 0.18855218855218855\n"
     ]
    }
   ],
   "source": [
    "tree = XGBClassifier()\n",
    "tree.fit(X_train, y_train)\n",
    "tree_pred = tree.predict(X_train)\n",
    "\n",
    "log_error = len(tree_pred[tree_pred!=y_train.to_numpy()]) / len(y_train)\n",
    "print(f\"The training error for Boosted Trees is {log_error}\")"
   ]
  },
  {
   "cell_type": "markdown",
   "id": "26cb9f74-41e3-4769-9bea-9fc095b10b98",
   "metadata": {},
   "source": [
    "## New Submission\n",
    "This submission after the retraining of Boosted Trees with the newly engineered Fare feature improved the model's score to 0.77751, and ranked 4457.\n",
    "\n",
    "This happens despite the increase in training error of the new model."
   ]
  },
  {
   "cell_type": "code",
   "execution_count": 228,
   "id": "b260f1ce-b71e-4566-aa35-af7847bab74e",
   "metadata": {},
   "outputs": [],
   "source": [
    "final_pred = tree.predict(new_test)\n",
    "submission = pd.DataFrame({\n",
    "        \"PassengerId\": test[\"PassengerId\"],\n",
    "        \"Survived\": final_pred\n",
    "    })\n",
    "\n",
    "submission.to_csv('submission.csv', index=False)"
   ]
  }
 ],
 "metadata": {
  "kernelspec": {
   "display_name": "Python 3 (ipykernel)",
   "language": "python",
   "name": "python3"
  },
  "language_info": {
   "codemirror_mode": {
    "name": "ipython",
    "version": 3
   },
   "file_extension": ".py",
   "mimetype": "text/x-python",
   "name": "python",
   "nbconvert_exporter": "python",
   "pygments_lexer": "ipython3",
   "version": "3.10.0"
  }
 },
 "nbformat": 4,
 "nbformat_minor": 5
}
