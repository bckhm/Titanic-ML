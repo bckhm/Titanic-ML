{
 "cells": [
  {
   "cell_type": "markdown",
   "id": "79463438-6f4c-4ce5-9ea2-f2e929019998",
   "metadata": {},
   "source": [
    "# Problem Definition\n",
    "\"Knowing from a training set of samples listing passengers who survived or did not survive the Titanic disaster, can our model determine based on a given test dataset not containing the survival information, if these passengers in the test dataset survived or not.\"\n",
    "\n",
    "Highlights to note:\n",
    "- On April 15, 1912, during her maiden voyage, the Titanic sank after colliding with an iceberg, killing 1502 out of 2224 passengers and crew. Translated 32% survival rate.\n",
    "- One of the reasons that the shipwreck led to such loss of life was that there were not enough lifeboats for the passengers and crew.\n",
    "- Although there was some element of luck involved in surviving the sinking, some groups of people were more likely to survive than others, such as women, children, and the upper-class."
   ]
  },
  {
   "cell_type": "markdown",
   "id": "fe1d11bb-7e2f-49aa-865a-2338543ff407",
   "metadata": {},
   "source": [
    "## 1. Preparation"
   ]
  },
  {
   "cell_type": "markdown",
   "id": "2d474375-fc1d-451d-b9df-e0ac4e19dbe1",
   "metadata": {},
   "source": [
    "### 1.1 Importing Libraries"
   ]
  },
  {
   "cell_type": "code",
   "execution_count": 1,
   "id": "b53b6acf-6a67-4d19-afe4-a98a3646d268",
   "metadata": {},
   "outputs": [],
   "source": [
    "import numpy as np\n",
    "import pandas as pd\n",
    "import matplotlib.pyplot as plt\n",
    "import seaborn as sns\n",
    "\n",
    "import sklearn\n",
    "from sklearn.linear_model import LogisticRegression\n",
    "from sklearn.preprocessing import StandardScaler\n",
    "\n",
    "import tensorflow as tf\n",
    "from tensorflow.keras.layers import Dense\n",
    "from tensorflow.keras.models import Sequential\n",
    "from tensorflow.keras.regularizers import L2\n",
    "from tensorflow.keras.optimizers import Adam\n",
    "\n",
    "from xgboost import XGBClassifier"
   ]
  },
  {
   "cell_type": "markdown",
   "id": "b16db4bc-e063-4e5e-b8fa-7322f8b30881",
   "metadata": {},
   "source": [
    "### 1.2 Loading Dataset"
   ]
  },
  {
   "cell_type": "code",
   "execution_count": 2,
   "id": "ee13d19d-e356-49cf-a6bd-5d683a888b0a",
   "metadata": {},
   "outputs": [
    {
     "data": {
      "text/html": [
       "<div>\n",
       "<style scoped>\n",
       "    .dataframe tbody tr th:only-of-type {\n",
       "        vertical-align: middle;\n",
       "    }\n",
       "\n",
       "    .dataframe tbody tr th {\n",
       "        vertical-align: top;\n",
       "    }\n",
       "\n",
       "    .dataframe thead th {\n",
       "        text-align: right;\n",
       "    }\n",
       "</style>\n",
       "<table border=\"1\" class=\"dataframe\">\n",
       "  <thead>\n",
       "    <tr style=\"text-align: right;\">\n",
       "      <th></th>\n",
       "      <th>PassengerId</th>\n",
       "      <th>Survived</th>\n",
       "      <th>Pclass</th>\n",
       "      <th>Name</th>\n",
       "      <th>Sex</th>\n",
       "      <th>Age</th>\n",
       "      <th>SibSp</th>\n",
       "      <th>Parch</th>\n",
       "      <th>Ticket</th>\n",
       "      <th>Fare</th>\n",
       "      <th>Cabin</th>\n",
       "      <th>Embarked</th>\n",
       "    </tr>\n",
       "  </thead>\n",
       "  <tbody>\n",
       "    <tr>\n",
       "      <th>0</th>\n",
       "      <td>1</td>\n",
       "      <td>0</td>\n",
       "      <td>3</td>\n",
       "      <td>Braund, Mr. Owen Harris</td>\n",
       "      <td>male</td>\n",
       "      <td>22.0</td>\n",
       "      <td>1</td>\n",
       "      <td>0</td>\n",
       "      <td>A/5 21171</td>\n",
       "      <td>7.2500</td>\n",
       "      <td>NaN</td>\n",
       "      <td>S</td>\n",
       "    </tr>\n",
       "    <tr>\n",
       "      <th>1</th>\n",
       "      <td>2</td>\n",
       "      <td>1</td>\n",
       "      <td>1</td>\n",
       "      <td>Cumings, Mrs. John Bradley (Florence Briggs Th...</td>\n",
       "      <td>female</td>\n",
       "      <td>38.0</td>\n",
       "      <td>1</td>\n",
       "      <td>0</td>\n",
       "      <td>PC 17599</td>\n",
       "      <td>71.2833</td>\n",
       "      <td>C85</td>\n",
       "      <td>C</td>\n",
       "    </tr>\n",
       "    <tr>\n",
       "      <th>2</th>\n",
       "      <td>3</td>\n",
       "      <td>1</td>\n",
       "      <td>3</td>\n",
       "      <td>Heikkinen, Miss. Laina</td>\n",
       "      <td>female</td>\n",
       "      <td>26.0</td>\n",
       "      <td>0</td>\n",
       "      <td>0</td>\n",
       "      <td>STON/O2. 3101282</td>\n",
       "      <td>7.9250</td>\n",
       "      <td>NaN</td>\n",
       "      <td>S</td>\n",
       "    </tr>\n",
       "    <tr>\n",
       "      <th>3</th>\n",
       "      <td>4</td>\n",
       "      <td>1</td>\n",
       "      <td>1</td>\n",
       "      <td>Futrelle, Mrs. Jacques Heath (Lily May Peel)</td>\n",
       "      <td>female</td>\n",
       "      <td>35.0</td>\n",
       "      <td>1</td>\n",
       "      <td>0</td>\n",
       "      <td>113803</td>\n",
       "      <td>53.1000</td>\n",
       "      <td>C123</td>\n",
       "      <td>S</td>\n",
       "    </tr>\n",
       "    <tr>\n",
       "      <th>4</th>\n",
       "      <td>5</td>\n",
       "      <td>0</td>\n",
       "      <td>3</td>\n",
       "      <td>Allen, Mr. William Henry</td>\n",
       "      <td>male</td>\n",
       "      <td>35.0</td>\n",
       "      <td>0</td>\n",
       "      <td>0</td>\n",
       "      <td>373450</td>\n",
       "      <td>8.0500</td>\n",
       "      <td>NaN</td>\n",
       "      <td>S</td>\n",
       "    </tr>\n",
       "  </tbody>\n",
       "</table>\n",
       "</div>"
      ],
      "text/plain": [
       "   PassengerId  Survived  Pclass  \\\n",
       "0            1         0       3   \n",
       "1            2         1       1   \n",
       "2            3         1       3   \n",
       "3            4         1       1   \n",
       "4            5         0       3   \n",
       "\n",
       "                                                Name     Sex   Age  SibSp  \\\n",
       "0                            Braund, Mr. Owen Harris    male  22.0      1   \n",
       "1  Cumings, Mrs. John Bradley (Florence Briggs Th...  female  38.0      1   \n",
       "2                             Heikkinen, Miss. Laina  female  26.0      0   \n",
       "3       Futrelle, Mrs. Jacques Heath (Lily May Peel)  female  35.0      1   \n",
       "4                           Allen, Mr. William Henry    male  35.0      0   \n",
       "\n",
       "   Parch            Ticket     Fare Cabin Embarked  \n",
       "0      0         A/5 21171   7.2500   NaN        S  \n",
       "1      0          PC 17599  71.2833   C85        C  \n",
       "2      0  STON/O2. 3101282   7.9250   NaN        S  \n",
       "3      0            113803  53.1000  C123        S  \n",
       "4      0            373450   8.0500   NaN        S  "
      ]
     },
     "metadata": {},
     "output_type": "display_data"
    },
    {
     "data": {
      "text/html": [
       "<div>\n",
       "<style scoped>\n",
       "    .dataframe tbody tr th:only-of-type {\n",
       "        vertical-align: middle;\n",
       "    }\n",
       "\n",
       "    .dataframe tbody tr th {\n",
       "        vertical-align: top;\n",
       "    }\n",
       "\n",
       "    .dataframe thead th {\n",
       "        text-align: right;\n",
       "    }\n",
       "</style>\n",
       "<table border=\"1\" class=\"dataframe\">\n",
       "  <thead>\n",
       "    <tr style=\"text-align: right;\">\n",
       "      <th></th>\n",
       "      <th>PassengerId</th>\n",
       "      <th>Pclass</th>\n",
       "      <th>Name</th>\n",
       "      <th>Sex</th>\n",
       "      <th>Age</th>\n",
       "      <th>SibSp</th>\n",
       "      <th>Parch</th>\n",
       "      <th>Ticket</th>\n",
       "      <th>Fare</th>\n",
       "      <th>Cabin</th>\n",
       "      <th>Embarked</th>\n",
       "    </tr>\n",
       "  </thead>\n",
       "  <tbody>\n",
       "    <tr>\n",
       "      <th>0</th>\n",
       "      <td>892</td>\n",
       "      <td>3</td>\n",
       "      <td>Kelly, Mr. James</td>\n",
       "      <td>male</td>\n",
       "      <td>34.5</td>\n",
       "      <td>0</td>\n",
       "      <td>0</td>\n",
       "      <td>330911</td>\n",
       "      <td>7.8292</td>\n",
       "      <td>NaN</td>\n",
       "      <td>Q</td>\n",
       "    </tr>\n",
       "    <tr>\n",
       "      <th>1</th>\n",
       "      <td>893</td>\n",
       "      <td>3</td>\n",
       "      <td>Wilkes, Mrs. James (Ellen Needs)</td>\n",
       "      <td>female</td>\n",
       "      <td>47.0</td>\n",
       "      <td>1</td>\n",
       "      <td>0</td>\n",
       "      <td>363272</td>\n",
       "      <td>7.0000</td>\n",
       "      <td>NaN</td>\n",
       "      <td>S</td>\n",
       "    </tr>\n",
       "    <tr>\n",
       "      <th>2</th>\n",
       "      <td>894</td>\n",
       "      <td>2</td>\n",
       "      <td>Myles, Mr. Thomas Francis</td>\n",
       "      <td>male</td>\n",
       "      <td>62.0</td>\n",
       "      <td>0</td>\n",
       "      <td>0</td>\n",
       "      <td>240276</td>\n",
       "      <td>9.6875</td>\n",
       "      <td>NaN</td>\n",
       "      <td>Q</td>\n",
       "    </tr>\n",
       "    <tr>\n",
       "      <th>3</th>\n",
       "      <td>895</td>\n",
       "      <td>3</td>\n",
       "      <td>Wirz, Mr. Albert</td>\n",
       "      <td>male</td>\n",
       "      <td>27.0</td>\n",
       "      <td>0</td>\n",
       "      <td>0</td>\n",
       "      <td>315154</td>\n",
       "      <td>8.6625</td>\n",
       "      <td>NaN</td>\n",
       "      <td>S</td>\n",
       "    </tr>\n",
       "    <tr>\n",
       "      <th>4</th>\n",
       "      <td>896</td>\n",
       "      <td>3</td>\n",
       "      <td>Hirvonen, Mrs. Alexander (Helga E Lindqvist)</td>\n",
       "      <td>female</td>\n",
       "      <td>22.0</td>\n",
       "      <td>1</td>\n",
       "      <td>1</td>\n",
       "      <td>3101298</td>\n",
       "      <td>12.2875</td>\n",
       "      <td>NaN</td>\n",
       "      <td>S</td>\n",
       "    </tr>\n",
       "  </tbody>\n",
       "</table>\n",
       "</div>"
      ],
      "text/plain": [
       "   PassengerId  Pclass                                          Name     Sex  \\\n",
       "0          892       3                              Kelly, Mr. James    male   \n",
       "1          893       3              Wilkes, Mrs. James (Ellen Needs)  female   \n",
       "2          894       2                     Myles, Mr. Thomas Francis    male   \n",
       "3          895       3                              Wirz, Mr. Albert    male   \n",
       "4          896       3  Hirvonen, Mrs. Alexander (Helga E Lindqvist)  female   \n",
       "\n",
       "    Age  SibSp  Parch   Ticket     Fare Cabin Embarked  \n",
       "0  34.5      0      0   330911   7.8292   NaN        Q  \n",
       "1  47.0      1      0   363272   7.0000   NaN        S  \n",
       "2  62.0      0      0   240276   9.6875   NaN        Q  \n",
       "3  27.0      0      0   315154   8.6625   NaN        S  \n",
       "4  22.0      1      1  3101298  12.2875   NaN        S  "
      ]
     },
     "metadata": {},
     "output_type": "display_data"
    }
   ],
   "source": [
    "train = pd.read_csv(\"data/train.csv\")\n",
    "test = pd.read_csv(\"data/test.csv\")\n",
    "\n",
    "display(train.head())\n",
    "display(test.head())"
   ]
  },
  {
   "cell_type": "markdown",
   "id": "3bf57828-3aa1-48eb-a177-5d05f2622796",
   "metadata": {},
   "source": [
    "### 1.3 Checking for Null Values"
   ]
  },
  {
   "cell_type": "code",
   "execution_count": 3,
   "id": "d40b9752-eb3a-4ef1-9769-12f28b487a4a",
   "metadata": {},
   "outputs": [
    {
     "data": {
      "text/html": [
       "<style type=\"text/css\">\n",
       "#T_00f97_row0_col0, #T_00f97_row0_col1, #T_00f97_row1_col0, #T_00f97_row2_col0, #T_00f97_row2_col1, #T_00f97_row3_col0, #T_00f97_row3_col1, #T_00f97_row4_col0, #T_00f97_row4_col1, #T_00f97_row6_col0, #T_00f97_row6_col1, #T_00f97_row7_col0, #T_00f97_row7_col1, #T_00f97_row8_col0, #T_00f97_row8_col1, #T_00f97_row9_col0, #T_00f97_row9_col1, #T_00f97_row11_col0, #T_00f97_row11_col1 {\n",
       "  background-color: #ffff00;\n",
       "  color: #000000;\n",
       "}\n",
       "#T_00f97_row1_col1 {\n",
       "  background-color: #000000;\n",
       "  color: #f1f1f1;\n",
       "}\n",
       "#T_00f97_row5_col0 {\n",
       "  background-color: #ffbe00;\n",
       "  color: #000000;\n",
       "}\n",
       "#T_00f97_row5_col1 {\n",
       "  background-color: #ffbc00;\n",
       "  color: #000000;\n",
       "}\n",
       "#T_00f97_row10_col0, #T_00f97_row10_col1 {\n",
       "  background-color: #ff0000;\n",
       "  color: #f1f1f1;\n",
       "}\n",
       "</style>\n",
       "<table id=\"T_00f97\">\n",
       "  <thead>\n",
       "    <tr>\n",
       "      <th class=\"blank level0\" >&nbsp;</th>\n",
       "      <th id=\"T_00f97_level0_col0\" class=\"col_heading level0 col0\" >Train Null Val(%)</th>\n",
       "      <th id=\"T_00f97_level0_col1\" class=\"col_heading level0 col1\" >Test Null Val(%)</th>\n",
       "    </tr>\n",
       "  </thead>\n",
       "  <tbody>\n",
       "    <tr>\n",
       "      <th id=\"T_00f97_level0_row0\" class=\"row_heading level0 row0\" >PassengerId</th>\n",
       "      <td id=\"T_00f97_row0_col0\" class=\"data row0 col0\" >0.000000</td>\n",
       "      <td id=\"T_00f97_row0_col1\" class=\"data row0 col1\" >0.000000</td>\n",
       "    </tr>\n",
       "    <tr>\n",
       "      <th id=\"T_00f97_level0_row1\" class=\"row_heading level0 row1\" >Survived</th>\n",
       "      <td id=\"T_00f97_row1_col0\" class=\"data row1 col0\" >0.000000</td>\n",
       "      <td id=\"T_00f97_row1_col1\" class=\"data row1 col1\" >nan</td>\n",
       "    </tr>\n",
       "    <tr>\n",
       "      <th id=\"T_00f97_level0_row2\" class=\"row_heading level0 row2\" >Pclass</th>\n",
       "      <td id=\"T_00f97_row2_col0\" class=\"data row2 col0\" >0.000000</td>\n",
       "      <td id=\"T_00f97_row2_col1\" class=\"data row2 col1\" >0.000000</td>\n",
       "    </tr>\n",
       "    <tr>\n",
       "      <th id=\"T_00f97_level0_row3\" class=\"row_heading level0 row3\" >Name</th>\n",
       "      <td id=\"T_00f97_row3_col0\" class=\"data row3 col0\" >0.000000</td>\n",
       "      <td id=\"T_00f97_row3_col1\" class=\"data row3 col1\" >0.000000</td>\n",
       "    </tr>\n",
       "    <tr>\n",
       "      <th id=\"T_00f97_level0_row4\" class=\"row_heading level0 row4\" >Sex</th>\n",
       "      <td id=\"T_00f97_row4_col0\" class=\"data row4 col0\" >0.000000</td>\n",
       "      <td id=\"T_00f97_row4_col1\" class=\"data row4 col1\" >0.000000</td>\n",
       "    </tr>\n",
       "    <tr>\n",
       "      <th id=\"T_00f97_level0_row5\" class=\"row_heading level0 row5\" >Age</th>\n",
       "      <td id=\"T_00f97_row5_col0\" class=\"data row5 col0\" >19.865320</td>\n",
       "      <td id=\"T_00f97_row5_col1\" class=\"data row5 col1\" >20.574163</td>\n",
       "    </tr>\n",
       "    <tr>\n",
       "      <th id=\"T_00f97_level0_row6\" class=\"row_heading level0 row6\" >SibSp</th>\n",
       "      <td id=\"T_00f97_row6_col0\" class=\"data row6 col0\" >0.000000</td>\n",
       "      <td id=\"T_00f97_row6_col1\" class=\"data row6 col1\" >0.000000</td>\n",
       "    </tr>\n",
       "    <tr>\n",
       "      <th id=\"T_00f97_level0_row7\" class=\"row_heading level0 row7\" >Parch</th>\n",
       "      <td id=\"T_00f97_row7_col0\" class=\"data row7 col0\" >0.000000</td>\n",
       "      <td id=\"T_00f97_row7_col1\" class=\"data row7 col1\" >0.000000</td>\n",
       "    </tr>\n",
       "    <tr>\n",
       "      <th id=\"T_00f97_level0_row8\" class=\"row_heading level0 row8\" >Ticket</th>\n",
       "      <td id=\"T_00f97_row8_col0\" class=\"data row8 col0\" >0.000000</td>\n",
       "      <td id=\"T_00f97_row8_col1\" class=\"data row8 col1\" >0.000000</td>\n",
       "    </tr>\n",
       "    <tr>\n",
       "      <th id=\"T_00f97_level0_row9\" class=\"row_heading level0 row9\" >Fare</th>\n",
       "      <td id=\"T_00f97_row9_col0\" class=\"data row9 col0\" >0.000000</td>\n",
       "      <td id=\"T_00f97_row9_col1\" class=\"data row9 col1\" >0.239234</td>\n",
       "    </tr>\n",
       "    <tr>\n",
       "      <th id=\"T_00f97_level0_row10\" class=\"row_heading level0 row10\" >Cabin</th>\n",
       "      <td id=\"T_00f97_row10_col0\" class=\"data row10 col0\" >77.104377</td>\n",
       "      <td id=\"T_00f97_row10_col1\" class=\"data row10 col1\" >78.229665</td>\n",
       "    </tr>\n",
       "    <tr>\n",
       "      <th id=\"T_00f97_level0_row11\" class=\"row_heading level0 row11\" >Embarked</th>\n",
       "      <td id=\"T_00f97_row11_col0\" class=\"data row11 col0\" >0.224467</td>\n",
       "      <td id=\"T_00f97_row11_col1\" class=\"data row11 col1\" >0.000000</td>\n",
       "    </tr>\n",
       "  </tbody>\n",
       "</table>\n"
      ],
      "text/plain": [
       "<pandas.io.formats.style.Styler at 0x2a364b3a0>"
      ]
     },
     "execution_count": 3,
     "metadata": {},
     "output_type": "execute_result"
    }
   ],
   "source": [
    "pd.DataFrame(data=[train.isna().sum() / train.shape[0] * 100, test.isna().sum() / test.shape[0] * 100],\n",
    "             index=['Train Null Val(%)', 'Test Null Val(%)']).T.style.background_gradient(cmap='autumn_r')"
   ]
  },
  {
   "cell_type": "markdown",
   "id": "f6bd876c-6356-4eaa-8330-ec698117ce87",
   "metadata": {},
   "source": [
    "**Cabin** has high NaN values of 77% for the training set and 78% for the test set. **Age** has 20% NaN values for the training set and 21% for the test set."
   ]
  },
  {
   "cell_type": "markdown",
   "id": "134572fc-bb66-43ef-8310-820903fcd7a5",
   "metadata": {},
   "source": [
    "### 1.4 Training Set Information"
   ]
  },
  {
   "cell_type": "code",
   "execution_count": 4,
   "id": "9c72b5d0-7ea9-4a50-a8c1-40ec60ffe5de",
   "metadata": {},
   "outputs": [
    {
     "name": "stdout",
     "output_type": "stream",
     "text": [
      "<class 'pandas.core.frame.DataFrame'>\n",
      "RangeIndex: 891 entries, 0 to 890\n",
      "Data columns (total 12 columns):\n",
      " #   Column       Non-Null Count  Dtype  \n",
      "---  ------       --------------  -----  \n",
      " 0   PassengerId  891 non-null    int64  \n",
      " 1   Survived     891 non-null    int64  \n",
      " 2   Pclass       891 non-null    int64  \n",
      " 3   Name         891 non-null    object \n",
      " 4   Sex          891 non-null    object \n",
      " 5   Age          714 non-null    float64\n",
      " 6   SibSp        891 non-null    int64  \n",
      " 7   Parch        891 non-null    int64  \n",
      " 8   Ticket       891 non-null    object \n",
      " 9   Fare         891 non-null    float64\n",
      " 10  Cabin        204 non-null    object \n",
      " 11  Embarked     889 non-null    object \n",
      "dtypes: float64(2), int64(5), object(5)\n",
      "memory usage: 83.7+ KB\n"
     ]
    }
   ],
   "source": [
    "train.info()"
   ]
  },
  {
   "cell_type": "markdown",
   "id": "ce22f442-bd2a-4cdc-995e-27620ae2691b",
   "metadata": {},
   "source": [
    "**Categorical**\n",
    "- **Ordinal**: Pclass\n",
    "- **Nominal**: Embarked, Sex, Survived(Target)\n",
    "\n",
    "**Numerical**\n",
    "- **Discrete**: Parch, SibSp\n",
    "- **Continuous**: Age, Fare,\n",
    "\n",
    "**Mixed DataTypes**\n",
    "- Cabin, Ticket\n",
    "\n",
    "**Others**:\n",
    "- **Text**: Name\n",
    "- **ID**: PassengerID"
   ]
  },
  {
   "cell_type": "code",
   "execution_count": 5,
   "id": "78ff7381-fb45-441b-bbde-a12321452a5a",
   "metadata": {},
   "outputs": [],
   "source": [
    "# Grouping of variables into numerical and categorical\n",
    "num_ftrs = ['Parch', 'SibSp', 'Age', 'Fare']\n",
    "cat_ftrs = ['Pclass', 'Embarked', 'Sex']"
   ]
  },
  {
   "cell_type": "markdown",
   "id": "d0205d1b-49de-4c88-8392-bc2749e17659",
   "metadata": {},
   "source": [
    "## 2. Analyzing Training Statistics\n",
    "Below we write functions that plot the distributions for both numerical and categorical features."
   ]
  },
  {
   "cell_type": "code",
   "execution_count": 6,
   "id": "7936cba2-cf6a-4366-9599-728db6b2a9f0",
   "metadata": {},
   "outputs": [],
   "source": [
    "# Pie Chart and Bar Chart distribution for Categorical Features\n",
    "def categorical_dist(df, ftr):\n",
    "    fig, ax = plt.subplots(1, 2, figsize=(12, 4))\n",
    "\n",
    "    df[ftr].value_counts().plot(kind=\"pie\", autopct='%1.1f%%', ax=ax[0])\n",
    "    ax[0].set_title(f\"{ftr} Pie Chart\")\n",
    "    ax[0].set_ylabel('')\n",
    "\n",
    "    count = sns.countplot(x=ftr, data=df, ax=ax[1])\n",
    "    for bar in count.patches:\n",
    "        count.annotate(format(bar.get_height()),\n",
    "            (bar.get_x() + bar.get_width() / 2,\n",
    "            bar.get_height()), ha='center', va='center',\n",
    "            size=11, xytext=(0, 8),\n",
    "            textcoords='offset points')\n",
    "    ax[1].set_title(f\"{ftr} Bar Chart\")\n",
    "    plt.show()\n",
    "    \n",
    "\n",
    "# Historgram and box plot for numerical features\n",
    "def numerical_dist(df, ftr):\n",
    "    fig,ax = plt.subplots(1, 2, figsize=(12, 4))\n",
    "    \n",
    "    sns.histplot(data=df, x=ftr, kde=True, ax=ax[0])\n",
    "    sns.boxplot(data=df, x=ftr, ax=ax[1])\n",
    "    ax[0].set_title(f\"{ftr} Distribution Histogram\")\n",
    "    ax[1].set_title(f\"{ftr} Distribution Boxplot\")\n",
    "\n",
    "    plt.show()\n",
    "    "
   ]
  },
  {
   "cell_type": "code",
   "execution_count": null,
   "id": "181ec0e3-06e8-4fdb-a246-997cc6558f76",
   "metadata": {},
   "outputs": [],
   "source": []
  },
  {
   "cell_type": "markdown",
   "id": "e24c6d4f-f3e3-4f7e-8522-9111c94daa7a",
   "metadata": {},
   "source": [
    "### 2.1 Analyzing Target Distribution"
   ]
  },
  {
   "cell_type": "code",
   "execution_count": 7,
   "id": "ba86333b-f1e0-40b3-b987-9e145390abc5",
   "metadata": {},
   "outputs": [
    {
     "data": {
      "image/png": "[encoded data removed]",
      "text/plain": [
       "<Figure size 864x288 with 2 Axes>"
      ]
     },
     "metadata": {
      "needs_background": "light"
     },
     "output_type": "display_data"
    }
   ],
   "source": [
    "categorical_dist(train, 'Survived')"
   ]
  },
  {
   "cell_type": "markdown",
   "id": "0080c854-2c80-4a5c-a02f-6a9500cb4393",
   "metadata": {},
   "source": [
    "As inferred from the sum of survivors and non-survivors, there are 891 passengers in the training set. This represents about 40% of the total number of passengers (2224) that was aboard the Titanic. The survival rate in the training set is 38%, relatively close to the actual survival rate of 32% and hence is representative of reality."
   ]
  },
  {
   "cell_type": "markdown",
   "id": "372888a1-196c-4505-b5f3-eb05edd21431",
   "metadata": {
    "tags": []
   },
   "source": [
    "### 2.2 Anaylzing Feature Distribution"
   ]
  },
  {
   "cell_type": "markdown",
   "id": "9b73b021-cbc5-4b15-8b2f-66c63a1572f4",
   "metadata": {},
   "source": [
    "#### 2.2.1 Categorical Feature Distribution"
   ]
  },
  {
   "cell_type": "code",
   "execution_count": 8,
   "id": "a7080d34-e219-45be-ad41-3d04738c9ca0",
   "metadata": {},
   "outputs": [
    {
     "data": {
      "text/html": [
       "<div>\n",
       "<style scoped>\n",
       "    .dataframe tbody tr th:only-of-type {\n",
       "        vertical-align: middle;\n",
       "    }\n",
       "\n",
       "    .dataframe tbody tr th {\n",
       "        vertical-align: top;\n",
       "    }\n",
       "\n",
       "    .dataframe thead th {\n",
       "        text-align: right;\n",
       "    }\n",
       "</style>\n",
       "<table border=\"1\" class=\"dataframe\">\n",
       "  <thead>\n",
       "    <tr style=\"text-align: right;\">\n",
       "      <th></th>\n",
       "      <th>Name</th>\n",
       "      <th>Sex</th>\n",
       "      <th>Ticket</th>\n",
       "      <th>Cabin</th>\n",
       "      <th>Embarked</th>\n",
       "    </tr>\n",
       "  </thead>\n",
       "  <tbody>\n",
       "    <tr>\n",
       "      <th>count</th>\n",
       "      <td>891</td>\n",
       "      <td>891</td>\n",
       "      <td>891</td>\n",
       "      <td>204</td>\n",
       "      <td>889</td>\n",
       "    </tr>\n",
       "    <tr>\n",
       "      <th>unique</th>\n",
       "      <td>891</td>\n",
       "      <td>2</td>\n",
       "      <td>681</td>\n",
       "      <td>147</td>\n",
       "      <td>3</td>\n",
       "    </tr>\n",
       "    <tr>\n",
       "      <th>top</th>\n",
       "      <td>Braund, Mr. Owen Harris</td>\n",
       "      <td>male</td>\n",
       "      <td>347082</td>\n",
       "      <td>B96 B98</td>\n",
       "      <td>S</td>\n",
       "    </tr>\n",
       "    <tr>\n",
       "      <th>freq</th>\n",
       "      <td>1</td>\n",
       "      <td>577</td>\n",
       "      <td>7</td>\n",
       "      <td>4</td>\n",
       "      <td>644</td>\n",
       "    </tr>\n",
       "  </tbody>\n",
       "</table>\n",
       "</div>"
      ],
      "text/plain": [
       "                           Name   Sex  Ticket    Cabin Embarked\n",
       "count                       891   891     891      204      889\n",
       "unique                      891     2     681      147        3\n",
       "top     Braund, Mr. Owen Harris  male  347082  B96 B98        S\n",
       "freq                          1   577       7        4      644"
      ]
     },
     "execution_count": 8,
     "metadata": {},
     "output_type": "execute_result"
    }
   ],
   "source": [
    "train.describe(include='O')"
   ]
  },
  {
   "cell_type": "code",
   "execution_count": 9,
   "id": "6ea7e44c-675b-4ead-9a2b-7b1c3ac46e95",
   "metadata": {},
   "outputs": [
    {
     "data": {
      "image/png": "[encoded data removed]",
      "text/plain": [
       "<Figure size 864x288 with 2 Axes>"
      ]
     },
     "metadata": {
      "needs_background": "light"
     },
     "output_type": "display_data"
    },
    {
     "data": {
      "image/png": "[encoded data removed]",
      "text/plain": [
       "<Figure size 864x288 with 2 Axes>"
      ]
     },
     "metadata": {
      "needs_background": "light"
     },
     "output_type": "display_data"
    },
    {
     "data": {
      "image/png": "[encoded data removed]",
      "text/plain": [
       "<Figure size 864x288 with 2 Axes>"
      ]
     },
     "metadata": {
      "needs_background": "light"
     },
     "output_type": "display_data"
    }
   ],
   "source": [
    "for i in cat_ftrs:\n",
    "    categorical_dist(train, i)"
   ]
  },
  {
   "cell_type": "markdown",
   "id": "b6d84f3a-311a-4711-b897-d16626c16f06",
   "metadata": {},
   "source": [
    "- **Pclass**: More than half the passengers were in third class (55%), with the remainder being split almost equally between first and second class.\n",
    "- **Embarked**: Majority of passengers (72%) embarked from port S, with very little of them from C and Q.\n",
    "- **Sex**: Majority of passengers (65%) were male."
   ]
  },
  {
   "cell_type": "markdown",
   "id": "3f43a29f-1b03-474e-90b6-d62e881e40c6",
   "metadata": {},
   "source": [
    "#### 2.2.2 Numerical Features Distribution"
   ]
  },
  {
   "cell_type": "code",
   "execution_count": 10,
   "id": "c4f10e2e-9467-4a6d-9c95-f7399af5cf79",
   "metadata": {},
   "outputs": [
    {
     "data": {
      "text/html": [
       "<div>\n",
       "<style scoped>\n",
       "    .dataframe tbody tr th:only-of-type {\n",
       "        vertical-align: middle;\n",
       "    }\n",
       "\n",
       "    .dataframe tbody tr th {\n",
       "        vertical-align: top;\n",
       "    }\n",
       "\n",
       "    .dataframe thead th {\n",
       "        text-align: right;\n",
       "    }\n",
       "</style>\n",
       "<table border=\"1\" class=\"dataframe\">\n",
       "  <thead>\n",
       "    <tr style=\"text-align: right;\">\n",
       "      <th></th>\n",
       "      <th>Parch</th>\n",
       "      <th>SibSp</th>\n",
       "      <th>Age</th>\n",
       "      <th>Fare</th>\n",
       "    </tr>\n",
       "  </thead>\n",
       "  <tbody>\n",
       "    <tr>\n",
       "      <th>count</th>\n",
       "      <td>891.000000</td>\n",
       "      <td>891.000000</td>\n",
       "      <td>714.000000</td>\n",
       "      <td>891.000000</td>\n",
       "    </tr>\n",
       "    <tr>\n",
       "      <th>mean</th>\n",
       "      <td>0.381594</td>\n",
       "      <td>0.523008</td>\n",
       "      <td>29.699118</td>\n",
       "      <td>32.204208</td>\n",
       "    </tr>\n",
       "    <tr>\n",
       "      <th>std</th>\n",
       "      <td>0.806057</td>\n",
       "      <td>1.102743</td>\n",
       "      <td>14.526497</td>\n",
       "      <td>49.693429</td>\n",
       "    </tr>\n",
       "    <tr>\n",
       "      <th>min</th>\n",
       "      <td>0.000000</td>\n",
       "      <td>0.000000</td>\n",
       "      <td>0.420000</td>\n",
       "      <td>0.000000</td>\n",
       "    </tr>\n",
       "    <tr>\n",
       "      <th>25%</th>\n",
       "      <td>0.000000</td>\n",
       "      <td>0.000000</td>\n",
       "      <td>20.125000</td>\n",
       "      <td>7.910400</td>\n",
       "    </tr>\n",
       "    <tr>\n",
       "      <th>50%</th>\n",
       "      <td>0.000000</td>\n",
       "      <td>0.000000</td>\n",
       "      <td>28.000000</td>\n",
       "      <td>14.454200</td>\n",
       "    </tr>\n",
       "    <tr>\n",
       "      <th>75%</th>\n",
       "      <td>0.000000</td>\n",
       "      <td>1.000000</td>\n",
       "      <td>38.000000</td>\n",
       "      <td>31.000000</td>\n",
       "    </tr>\n",
       "    <tr>\n",
       "      <th>max</th>\n",
       "      <td>6.000000</td>\n",
       "      <td>8.000000</td>\n",
       "      <td>80.000000</td>\n",
       "      <td>512.329200</td>\n",
       "    </tr>\n",
       "  </tbody>\n",
       "</table>\n",
       "</div>"
      ],
      "text/plain": [
       "            Parch       SibSp         Age        Fare\n",
       "count  891.000000  891.000000  714.000000  891.000000\n",
       "mean     0.381594    0.523008   29.699118   32.204208\n",
       "std      0.806057    1.102743   14.526497   49.693429\n",
       "min      0.000000    0.000000    0.420000    0.000000\n",
       "25%      0.000000    0.000000   20.125000    7.910400\n",
       "50%      0.000000    0.000000   28.000000   14.454200\n",
       "75%      0.000000    1.000000   38.000000   31.000000\n",
       "max      6.000000    8.000000   80.000000  512.329200"
      ]
     },
     "execution_count": 10,
     "metadata": {},
     "output_type": "execute_result"
    }
   ],
   "source": [
    "train[num_ftrs].describe()"
   ]
  },
  {
   "cell_type": "code",
   "execution_count": 11,
   "id": "9f01b08f-5d38-4c95-9e08-26cb726e825b",
   "metadata": {},
   "outputs": [
    {
     "data": {
      "image/png": "[encoded data removed]",
      "text/plain": [
       "<Figure size 864x288 with 2 Axes>"
      ]
     },
     "metadata": {
      "needs_background": "light"
     },
     "output_type": "display_data"
    },
    {
     "data": {
      "image/png": "[encoded data removed]",
      "text/plain": [
       "<Figure size 864x288 with 2 Axes>"
      ]
     },
     "metadata": {
      "needs_background": "light"
     },
     "output_type": "display_data"
    },
    {
     "data": {
      "image/png": "[encoded data removed]",
      "text/plain": [
       "<Figure size 864x288 with 2 Axes>"
      ]
     },
     "metadata": {
      "needs_background": "light"
     },
     "output_type": "display_data"
    },
    {
     "data": {
      "image/png": "[encoded data removed]",
      "text/plain": [
       "<Figure size 864x288 with 2 Axes>"
      ]
     },
     "metadata": {
      "needs_background": "light"
     },
     "output_type": "display_data"
    }
   ],
   "source": [
    "for i in num_ftrs:\n",
    "    numerical_dist(train, i)"
   ]
  },
  {
   "cell_type": "markdown",
   "id": "6a831e8d-ab2a-4c7a-b518-cc330dfb58e6",
   "metadata": {},
   "source": [
    "**Parch**: Most passengers did not have parents or children on boards.\n",
    "\n",
    "**SibSp**: Most passengers did not come with siblings or spouses\n",
    "\n",
    "**Age**: There is a large variation in age, ranging from 0.42 to 80 years old. \n",
    "\n",
    "**Fare**: Large variations in fare, whereby some passengers enter for free, and a small minority pays an upwards of 512.\n",
    "\n",
    "Age seems to be close to a normal distribution but with a posititve skew. The other numerical features similarly follow a positive skew."
   ]
  },
  {
   "cell_type": "markdown",
   "id": "f20f38d2-9215-4638-ae04-9f04e6f9c188",
   "metadata": {},
   "source": [
    "### 2.3 Analyzing Correlation to Survival\n",
    "We test the features' correlation to the survival of a passenger here in order to understand the exposure each feature provides to our target.\n",
    "\n",
    "#### 2.3.1 Pivoting  Features\n",
    "We pivot Sex, Embarked, Pclass, SibSp and Parch against the target.\n",
    "- Discrete, Ordinal and Nominal Features \n"
   ]
  },
  {
   "cell_type": "code",
   "execution_count": 12,
   "id": "9d804b50-a823-4dac-840f-e7f303a19b70",
   "metadata": {},
   "outputs": [
    {
     "data": {
      "text/html": [
       "<div>\n",
       "<style scoped>\n",
       "    .dataframe tbody tr th:only-of-type {\n",
       "        vertical-align: middle;\n",
       "    }\n",
       "\n",
       "    .dataframe tbody tr th {\n",
       "        vertical-align: top;\n",
       "    }\n",
       "\n",
       "    .dataframe thead th {\n",
       "        text-align: right;\n",
       "    }\n",
       "</style>\n",
       "<table border=\"1\" class=\"dataframe\">\n",
       "  <thead>\n",
       "    <tr style=\"text-align: right;\">\n",
       "      <th></th>\n",
       "      <th>Sex</th>\n",
       "      <th>Survived</th>\n",
       "    </tr>\n",
       "  </thead>\n",
       "  <tbody>\n",
       "    <tr>\n",
       "      <th>0</th>\n",
       "      <td>female</td>\n",
       "      <td>0.742038</td>\n",
       "    </tr>\n",
       "    <tr>\n",
       "      <th>1</th>\n",
       "      <td>male</td>\n",
       "      <td>0.188908</td>\n",
       "    </tr>\n",
       "  </tbody>\n",
       "</table>\n",
       "</div>"
      ],
      "text/plain": [
       "      Sex  Survived\n",
       "0  female  0.742038\n",
       "1    male  0.188908"
      ]
     },
     "execution_count": 12,
     "metadata": {},
     "output_type": "execute_result"
    }
   ],
   "source": [
    "# Pivoting Sex against Survived\n",
    "train[['Sex', 'Survived']].groupby(['Sex'], as_index=False).mean()"
   ]
  },
  {
   "cell_type": "code",
   "execution_count": 13,
   "id": "25eff42b-0aaf-4ede-aa11-ebfc9aa4a0ba",
   "metadata": {},
   "outputs": [
    {
     "data": {
      "text/html": [
       "<div>\n",
       "<style scoped>\n",
       "    .dataframe tbody tr th:only-of-type {\n",
       "        vertical-align: middle;\n",
       "    }\n",
       "\n",
       "    .dataframe tbody tr th {\n",
       "        vertical-align: top;\n",
       "    }\n",
       "\n",
       "    .dataframe thead th {\n",
       "        text-align: right;\n",
       "    }\n",
       "</style>\n",
       "<table border=\"1\" class=\"dataframe\">\n",
       "  <thead>\n",
       "    <tr style=\"text-align: right;\">\n",
       "      <th></th>\n",
       "      <th>Embarked</th>\n",
       "      <th>Survived</th>\n",
       "    </tr>\n",
       "  </thead>\n",
       "  <tbody>\n",
       "    <tr>\n",
       "      <th>0</th>\n",
       "      <td>C</td>\n",
       "      <td>0.553571</td>\n",
       "    </tr>\n",
       "    <tr>\n",
       "      <th>1</th>\n",
       "      <td>Q</td>\n",
       "      <td>0.389610</td>\n",
       "    </tr>\n",
       "    <tr>\n",
       "      <th>2</th>\n",
       "      <td>S</td>\n",
       "      <td>0.336957</td>\n",
       "    </tr>\n",
       "  </tbody>\n",
       "</table>\n",
       "</div>"
      ],
      "text/plain": [
       "  Embarked  Survived\n",
       "0        C  0.553571\n",
       "1        Q  0.389610\n",
       "2        S  0.336957"
      ]
     },
     "execution_count": 13,
     "metadata": {},
     "output_type": "execute_result"
    }
   ],
   "source": [
    "# Pivoting Embarked against Survived\n",
    "train[['Embarked', 'Survived']].groupby(['Embarked'], as_index=False).mean()"
   ]
  },
  {
   "cell_type": "code",
   "execution_count": 14,
   "id": "11e370f8-b39a-4b20-96ed-02b8627e9a98",
   "metadata": {},
   "outputs": [
    {
     "data": {
      "text/html": [
       "<div>\n",
       "<style scoped>\n",
       "    .dataframe tbody tr th:only-of-type {\n",
       "        vertical-align: middle;\n",
       "    }\n",
       "\n",
       "    .dataframe tbody tr th {\n",
       "        vertical-align: top;\n",
       "    }\n",
       "\n",
       "    .dataframe thead th {\n",
       "        text-align: right;\n",
       "    }\n",
       "</style>\n",
       "<table border=\"1\" class=\"dataframe\">\n",
       "  <thead>\n",
       "    <tr style=\"text-align: right;\">\n",
       "      <th></th>\n",
       "      <th>Pclass</th>\n",
       "      <th>Survived</th>\n",
       "    </tr>\n",
       "  </thead>\n",
       "  <tbody>\n",
       "    <tr>\n",
       "      <th>0</th>\n",
       "      <td>1</td>\n",
       "      <td>0.629630</td>\n",
       "    </tr>\n",
       "    <tr>\n",
       "      <th>1</th>\n",
       "      <td>2</td>\n",
       "      <td>0.472826</td>\n",
       "    </tr>\n",
       "    <tr>\n",
       "      <th>2</th>\n",
       "      <td>3</td>\n",
       "      <td>0.242363</td>\n",
       "    </tr>\n",
       "  </tbody>\n",
       "</table>\n",
       "</div>"
      ],
      "text/plain": [
       "   Pclass  Survived\n",
       "0       1  0.629630\n",
       "1       2  0.472826\n",
       "2       3  0.242363"
      ]
     },
     "execution_count": 14,
     "metadata": {},
     "output_type": "execute_result"
    }
   ],
   "source": [
    "# Pivoting Pclass against Survived\n",
    "train[['Pclass', 'Survived']].groupby(['Pclass'], as_index=False).mean()"
   ]
  },
  {
   "cell_type": "code",
   "execution_count": 15,
   "id": "b52c90ee-6f70-4498-aeb8-0002fee06ae5",
   "metadata": {},
   "outputs": [
    {
     "data": {
      "text/html": [
       "<div>\n",
       "<style scoped>\n",
       "    .dataframe tbody tr th:only-of-type {\n",
       "        vertical-align: middle;\n",
       "    }\n",
       "\n",
       "    .dataframe tbody tr th {\n",
       "        vertical-align: top;\n",
       "    }\n",
       "\n",
       "    .dataframe thead th {\n",
       "        text-align: right;\n",
       "    }\n",
       "</style>\n",
       "<table border=\"1\" class=\"dataframe\">\n",
       "  <thead>\n",
       "    <tr style=\"text-align: right;\">\n",
       "      <th></th>\n",
       "      <th>Parch</th>\n",
       "      <th>Survived</th>\n",
       "    </tr>\n",
       "  </thead>\n",
       "  <tbody>\n",
       "    <tr>\n",
       "      <th>0</th>\n",
       "      <td>0</td>\n",
       "      <td>0.343658</td>\n",
       "    </tr>\n",
       "    <tr>\n",
       "      <th>1</th>\n",
       "      <td>1</td>\n",
       "      <td>0.550847</td>\n",
       "    </tr>\n",
       "    <tr>\n",
       "      <th>2</th>\n",
       "      <td>2</td>\n",
       "      <td>0.500000</td>\n",
       "    </tr>\n",
       "    <tr>\n",
       "      <th>3</th>\n",
       "      <td>3</td>\n",
       "      <td>0.600000</td>\n",
       "    </tr>\n",
       "    <tr>\n",
       "      <th>4</th>\n",
       "      <td>4</td>\n",
       "      <td>0.000000</td>\n",
       "    </tr>\n",
       "    <tr>\n",
       "      <th>5</th>\n",
       "      <td>5</td>\n",
       "      <td>0.200000</td>\n",
       "    </tr>\n",
       "    <tr>\n",
       "      <th>6</th>\n",
       "      <td>6</td>\n",
       "      <td>0.000000</td>\n",
       "    </tr>\n",
       "  </tbody>\n",
       "</table>\n",
       "</div>"
      ],
      "text/plain": [
       "   Parch  Survived\n",
       "0      0  0.343658\n",
       "1      1  0.550847\n",
       "2      2  0.500000\n",
       "3      3  0.600000\n",
       "4      4  0.000000\n",
       "5      5  0.200000\n",
       "6      6  0.000000"
      ]
     },
     "execution_count": 15,
     "metadata": {},
     "output_type": "execute_result"
    }
   ],
   "source": [
    "# Pivoting Parch agianst Survived\n",
    "train[['Parch', 'Survived']].groupby(['Parch'], as_index=False).mean()"
   ]
  },
  {
   "cell_type": "code",
   "execution_count": 16,
   "id": "2b2d38e4-96c9-40c3-800c-82283bf940a4",
   "metadata": {},
   "outputs": [
    {
     "data": {
      "text/html": [
       "<div>\n",
       "<style scoped>\n",
       "    .dataframe tbody tr th:only-of-type {\n",
       "        vertical-align: middle;\n",
       "    }\n",
       "\n",
       "    .dataframe tbody tr th {\n",
       "        vertical-align: top;\n",
       "    }\n",
       "\n",
       "    .dataframe thead th {\n",
       "        text-align: right;\n",
       "    }\n",
       "</style>\n",
       "<table border=\"1\" class=\"dataframe\">\n",
       "  <thead>\n",
       "    <tr style=\"text-align: right;\">\n",
       "      <th></th>\n",
       "      <th>SibSp</th>\n",
       "      <th>Survived</th>\n",
       "    </tr>\n",
       "  </thead>\n",
       "  <tbody>\n",
       "    <tr>\n",
       "      <th>0</th>\n",
       "      <td>0</td>\n",
       "      <td>0.345395</td>\n",
       "    </tr>\n",
       "    <tr>\n",
       "      <th>1</th>\n",
       "      <td>1</td>\n",
       "      <td>0.535885</td>\n",
       "    </tr>\n",
       "    <tr>\n",
       "      <th>2</th>\n",
       "      <td>2</td>\n",
       "      <td>0.464286</td>\n",
       "    </tr>\n",
       "    <tr>\n",
       "      <th>3</th>\n",
       "      <td>3</td>\n",
       "      <td>0.250000</td>\n",
       "    </tr>\n",
       "    <tr>\n",
       "      <th>4</th>\n",
       "      <td>4</td>\n",
       "      <td>0.166667</td>\n",
       "    </tr>\n",
       "    <tr>\n",
       "      <th>5</th>\n",
       "      <td>5</td>\n",
       "      <td>0.000000</td>\n",
       "    </tr>\n",
       "    <tr>\n",
       "      <th>6</th>\n",
       "      <td>8</td>\n",
       "      <td>0.000000</td>\n",
       "    </tr>\n",
       "  </tbody>\n",
       "</table>\n",
       "</div>"
      ],
      "text/plain": [
       "   SibSp  Survived\n",
       "0      0  0.345395\n",
       "1      1  0.535885\n",
       "2      2  0.464286\n",
       "3      3  0.250000\n",
       "4      4  0.166667\n",
       "5      5  0.000000\n",
       "6      8  0.000000"
      ]
     },
     "execution_count": 16,
     "metadata": {},
     "output_type": "execute_result"
    }
   ],
   "source": [
    "# Pivoting SibSp against Survived\n",
    "train[['SibSp', 'Survived']].groupby(['SibSp'], as_index=False).mean()"
   ]
  },
  {
   "cell_type": "markdown",
   "id": "93020227-39d9-4e13-871b-8756c37fb0cc",
   "metadata": {},
   "source": [
    "Females have shown to have a higher survival rate than males, with 74% of females suriving. Passengers who embarked from Port C also have a higher survival rate of 55%, followed by port Q(38%) and lastly port S(33%). Pclass plays a role too as those from first class were also more likely to survive(62%) whereas those in third class have the lowest chance of survival(24%). \n",
    "\n",
    "SibSp and Parch have 0 correlation to Survived for Parch > 3 and SibSp > 4. \n",
    "\n",
    "**Conclusion**\n",
    "- The first 3 features have shown to have some correlation with survival and will be included in our model.\n",
    "- SibSp and Parch should be feature engineered to form a new feature."
   ]
  },
  {
   "cell_type": "markdown",
   "id": "8cee4c32-09cb-4b46-aeb3-1b1ec465e22b",
   "metadata": {},
   "source": [
    "#### 2.3.2 Visual Analysis\n",
    "\n",
    "Here we analyze continuous numerical features, Age and Fare, against the target"
   ]
  },
  {
   "cell_type": "code",
   "execution_count": 17,
   "id": "c9599755-15dc-4717-9a1c-032899069482",
   "metadata": {},
   "outputs": [
    {
     "data": {
      "text/plain": [
       "<seaborn.axisgrid.FacetGrid at 0x2a63dd090>"
      ]
     },
     "execution_count": 17,
     "metadata": {},
     "output_type": "execute_result"
    },
    {
     "data": {
      "image/png": "[encoded data removed]",
      "text/plain": [
       "<Figure size 432x216 with 2 Axes>"
      ]
     },
     "metadata": {
      "needs_background": "light"
     },
     "output_type": "display_data"
    }
   ],
   "source": [
    "g = sns.FacetGrid(train, col='Survived')\n",
    "g.map(plt.hist, 'Age', bins=20)"
   ]
  },
  {
   "cell_type": "markdown",
   "id": "51697f07-70d5-40d9-8c9d-0530d542452a",
   "metadata": {},
   "source": [
    "It is evident that children with age < 10 have a better chance of survival, while adults have a greatly reduced survival rate. Combined with the high survival rate of females, it may seem that the 'women and children' first code may have applied to the titanic incident. "
   ]
  },
  {
   "cell_type": "code",
   "execution_count": 18,
   "id": "9dfbc291-5bab-4cce-adfe-b1da7ffea44c",
   "metadata": {},
   "outputs": [
    {
     "data": {
      "text/plain": [
       "<seaborn.axisgrid.FacetGrid at 0x2a63b3700>"
      ]
     },
     "execution_count": 18,
     "metadata": {},
     "output_type": "execute_result"
    },
    {
     "data": {
      "image/png": "[encoded data removed]",
      "text/plain": [
       "<Figure size 432x216 with 2 Axes>"
      ]
     },
     "metadata": {
      "needs_background": "light"
     },
     "output_type": "display_data"
    }
   ],
   "source": [
    "g = sns.FacetGrid(train, col='Survived')\n",
    "g.map(plt.hist, 'Fare', bins=20)"
   ]
  },
  {
   "cell_type": "markdown",
   "id": "4f8c5d73-49f7-4088-8130-8c7c0c103f3d",
   "metadata": {},
   "source": [
    "We can infer that those who paid a lower fare might possibly have had lower priority to be saved. \n",
    "\n",
    "**Conclusion**\n",
    "- Age should be included in our model \n",
    "- Test fare's correlation against Pclass."
   ]
  },
  {
   "cell_type": "markdown",
   "id": "ef4a7115-3777-4fec-8a8b-bb011c81f0ab",
   "metadata": {},
   "source": [
    "## 2.4 Correlation between Features\n",
    "Here we plot a heatmap of the correlation coefficient matrix between the features"
   ]
  },
  {
   "cell_type": "code",
   "execution_count": 19,
   "id": "f2f4727d-db15-4dcf-8f12-d8d21957454b",
   "metadata": {},
   "outputs": [],
   "source": [
    "# Correlation heatmap\n",
    "def correlation_matrix(df, is_plot=False):\n",
    "    \n",
    "    # Get feature correlations and transform to dataframe\n",
    "    correlated = df.corr(method='pearson')\n",
    "\n",
    "    # Convert to abolute values\n",
    "    abs_correlated = np.abs(correlated) \n",
    "\n",
    "    if is_plot:\n",
    "        plt.figure(figsize=(10, 10))\n",
    "        plt.imshow(abs_correlated, cmap='RdYlGn', interpolation='none', aspect='auto')\n",
    "        plt.colorbar()\n",
    "        plt.xticks(range(len(abs_correlated)), abs_correlated.columns, rotation='vertical')\n",
    "        plt.yticks(range(len(abs_correlated)), abs_correlated.columns);\n",
    "        plt.suptitle('Pearson Correlation Heat Map (absolute values)', fontsize=15, fontweight='bold')\n",
    "        plt.show()\n",
    "\n",
    "    return correlated, abs_correlated"
   ]
  },
  {
   "cell_type": "code",
   "execution_count": 20,
   "id": "8dc29c86-eebc-4072-a085-687387ca0fbe",
   "metadata": {},
   "outputs": [
    {
     "data": {
      "image/png": "[encoded data removed]",
      "text/plain": [
       "<Figure size 720x720 with 2 Axes>"
      ]
     },
     "metadata": {
      "needs_background": "light"
     },
     "output_type": "display_data"
    }
   ],
   "source": [
    "train_corr, train_abs_corr = correlation_matrix(train, is_plot=True)  "
   ]
  },
  {
   "cell_type": "markdown",
   "id": "18248178-58f6-4936-919c-170fa72ebecd",
   "metadata": {},
   "source": [
    "We can see here that Fare and Pclass have a relationship, with a Pearson Correlation coefficient of 0.5. Age and Pclass also have some correlation.\n",
    "\n",
    "**Conclusion**\n",
    "- Fare will be included in the model, but in the case of high variance may be removed or feature engineered.\n",
    "- We can use Pclass as a benchmark for filling in the missing values of Fare.\n",
    "- We can use Pclass as a benchmark for filling in the missing values of Age."
   ]
  },
  {
   "cell_type": "markdown",
   "id": "5184fc2b-1956-4ae9-9768-5b4948fe7279",
   "metadata": {},
   "source": [
    "## 3. Data Wrangling"
   ]
  },
  {
   "cell_type": "markdown",
   "id": "8ff316e1-0144-4988-848a-6d79f0102c64",
   "metadata": {},
   "source": [
    "### 3.1 Removal\n",
    "- **PassengerId** is simply just a unique identifer for the different passengers and has no relationship to survival. This is also evident from the heat map showing an extremely low correlation coefficient of PassengerId with the target.\n",
    "\n",
    "- **Cabin** has too high a percentage of missing values in both the training and test sets and should be removed.\n",
    "\n",
    "- **Ticket** simply serves as an identifer and has no inferrable pattern, and will hence be removed."
   ]
  },
  {
   "cell_type": "code",
   "execution_count": 21,
   "id": "a4de1aee-61c5-4262-a312-2a3a34d27f17",
   "metadata": {},
   "outputs": [
    {
     "name": "stdout",
     "output_type": "stream",
     "text": [
      "Training set shape before: (891, 12)\n",
      "After: (891, 9)\n"
     ]
    }
   ],
   "source": [
    "sets = [train, test]\n",
    "backup = test['PassengerId'].copy()\n",
    "\n",
    "print(f\"Training set shape before: {train.shape}\")\n",
    "      \n",
    "for df in sets:\n",
    "    df.drop(['PassengerId', 'Cabin', 'Ticket'], axis=1, inplace=True)\n",
    "    \n",
    "print(f\"After: {train.shape}\")"
   ]
  },
  {
   "cell_type": "markdown",
   "id": "19911748-b9fb-4466-9d21-75b24e683468",
   "metadata": {},
   "source": [
    "### 3.2 Feature Engineering\n",
    "\n",
    "#### 3.2.1 Title\n",
    "The names of passengers as a whole is not very useful, but we can extract titles from their names and turn them into features."
   ]
  },
  {
   "cell_type": "code",
   "execution_count": 22,
   "id": "6c0c3845-2657-499f-a0ac-a3c95e664ca8",
   "metadata": {},
   "outputs": [
    {
     "data": {
      "text/plain": [
       "0                                Braund, Mr. Owen Harris\n",
       "1      Cumings, Mrs. John Bradley (Florence Briggs Th...\n",
       "2                                 Heikkinen, Miss. Laina\n",
       "3           Futrelle, Mrs. Jacques Heath (Lily May Peel)\n",
       "4                               Allen, Mr. William Henry\n",
       "                             ...                        \n",
       "886                                Montvila, Rev. Juozas\n",
       "887                         Graham, Miss. Margaret Edith\n",
       "888             Johnston, Miss. Catherine Helen \"Carrie\"\n",
       "889                                Behr, Mr. Karl Howell\n",
       "890                                  Dooley, Mr. Patrick\n",
       "Name: Name, Length: 891, dtype: object"
      ]
     },
     "execution_count": 22,
     "metadata": {},
     "output_type": "execute_result"
    }
   ],
   "source": [
    "train['Name']"
   ]
  },
  {
   "cell_type": "code",
   "execution_count": 23,
   "id": "14ebb865-b5c8-4d66-a902-c8586ea2df5d",
   "metadata": {},
   "outputs": [
    {
     "data": {
      "text/plain": [
       "Mr          517\n",
       "Miss        182\n",
       "Mrs         125\n",
       "Master       40\n",
       "Dr            7\n",
       "Rev           6\n",
       "Mlle          2\n",
       "Major         2\n",
       "Col           2\n",
       "Countess      1\n",
       "Capt          1\n",
       "Ms            1\n",
       "Sir           1\n",
       "Lady          1\n",
       "Mme           1\n",
       "Don           1\n",
       "Jonkheer      1\n",
       "Name: Title, dtype: int64"
      ]
     },
     "execution_count": 23,
     "metadata": {},
     "output_type": "execute_result"
    }
   ],
   "source": [
    "for df in sets:\n",
    "    df['Title'] = df[\"Name\"].str.extract('([A-Za-z]+)\\.')\n",
    "    df.drop(\"Name\", axis=1, inplace=True) # Drop name column\n",
    "    \n",
    "train[\"Title\"].value_counts()"
   ]
  },
  {
   "cell_type": "markdown",
   "id": "34a82e8a-2d27-43a7-bd9a-1957588c257e",
   "metadata": {},
   "source": [
    "As some titles mean the same thing as others, and some titles are too uncommon to really make a difference, we can clean up the current data"
   ]
  },
  {
   "cell_type": "code",
   "execution_count": 24,
   "id": "62392041-0e15-4645-8e53-a259f5a60e7e",
   "metadata": {},
   "outputs": [],
   "source": [
    "def convert_title(title):\n",
    "    if title in [\"Ms\", \"Mile\", \"Miss\"]:\n",
    "        return \"Miss\"\n",
    "    elif title in [\"Mme\", \"Mrs\"]:\n",
    "        return \"Mrs\"\n",
    "    elif title == \"Mr\":\n",
    "        return \"Mr\"\n",
    "    elif title == \"Master\":\n",
    "        return \"Master\"\n",
    "    else:\n",
    "        return \"Others\""
   ]
  },
  {
   "cell_type": "code",
   "execution_count": 25,
   "id": "de87135c-b2ba-44d7-9c94-469e402fe4ff",
   "metadata": {},
   "outputs": [
    {
     "data": {
      "text/plain": [
       "Mr        517\n",
       "Miss      183\n",
       "Mrs       126\n",
       "Master     40\n",
       "Others     25\n",
       "Name: Title, dtype: int64"
      ]
     },
     "execution_count": 25,
     "metadata": {},
     "output_type": "execute_result"
    }
   ],
   "source": [
    "for df in sets:\n",
    "    df[\"Title\"] = df[\"Title\"].map(convert_title)\n",
    "    \n",
    "train[\"Title\"].value_counts()"
   ]
  },
  {
   "cell_type": "markdown",
   "id": "db254c07-669c-40d6-b0fd-649202f3072f",
   "metadata": {},
   "source": [
    "#### 3.2.2 SibSp and Parch\n",
    "A new feature can be created here by combining these two features to form a 'Family' feature."
   ]
  },
  {
   "cell_type": "code",
   "execution_count": 26,
   "id": "5fd2255c-8670-4723-807b-693dcaed7dbc",
   "metadata": {},
   "outputs": [
    {
     "data": {
      "text/plain": [
       "0      1\n",
       "1      1\n",
       "2      0\n",
       "3      1\n",
       "4      0\n",
       "      ..\n",
       "886    0\n",
       "887    0\n",
       "888    3\n",
       "889    0\n",
       "890    0\n",
       "Name: Family, Length: 891, dtype: int64"
      ]
     },
     "execution_count": 26,
     "metadata": {},
     "output_type": "execute_result"
    }
   ],
   "source": [
    "for df in sets:\n",
    "    df['Family'] = df['SibSp'] + df['Parch']\n",
    "    df.drop(['SibSp', 'Parch'], axis=1, inplace=True)\n",
    "    \n",
    "train['Family']"
   ]
  },
  {
   "cell_type": "markdown",
   "id": "0d64a0cd-2159-47d4-9673-8aa652ec567f",
   "metadata": {},
   "source": [
    "### 3.3 Filling of Missing Values\n",
    "\n",
    "#### 3.3.1 Age\n",
    "As Age has some correlation to Pclass as shown in the heat map above, we find the average age for each classs, and assign the passengers with missing age according to ther Pclass value."
   ]
  },
  {
   "cell_type": "code",
   "execution_count": 27,
   "id": "0f08662e-6383-45f9-bb71-39d3a2f93846",
   "metadata": {},
   "outputs": [
    {
     "data": {
      "text/html": [
       "<div>\n",
       "<style scoped>\n",
       "    .dataframe tbody tr th:only-of-type {\n",
       "        vertical-align: middle;\n",
       "    }\n",
       "\n",
       "    .dataframe tbody tr th {\n",
       "        vertical-align: top;\n",
       "    }\n",
       "\n",
       "    .dataframe thead th {\n",
       "        text-align: right;\n",
       "    }\n",
       "</style>\n",
       "<table border=\"1\" class=\"dataframe\">\n",
       "  <thead>\n",
       "    <tr style=\"text-align: right;\">\n",
       "      <th></th>\n",
       "      <th>Pclass</th>\n",
       "      <th>Age</th>\n",
       "    </tr>\n",
       "  </thead>\n",
       "  <tbody>\n",
       "    <tr>\n",
       "      <th>0</th>\n",
       "      <td>1</td>\n",
       "      <td>38.233441</td>\n",
       "    </tr>\n",
       "    <tr>\n",
       "      <th>1</th>\n",
       "      <td>2</td>\n",
       "      <td>29.877630</td>\n",
       "    </tr>\n",
       "    <tr>\n",
       "      <th>2</th>\n",
       "      <td>3</td>\n",
       "      <td>25.140620</td>\n",
       "    </tr>\n",
       "  </tbody>\n",
       "</table>\n",
       "</div>"
      ],
      "text/plain": [
       "   Pclass        Age\n",
       "0       1  38.233441\n",
       "1       2  29.877630\n",
       "2       3  25.140620"
      ]
     },
     "execution_count": 27,
     "metadata": {},
     "output_type": "execute_result"
    }
   ],
   "source": [
    "train[['Pclass', 'Age']].groupby(['Pclass'], as_index=False).mean()"
   ]
  },
  {
   "cell_type": "code",
   "execution_count": 28,
   "id": "2cd90b49-76ab-4eea-9d7e-a155d059377a",
   "metadata": {},
   "outputs": [],
   "source": [
    "for df in sets:\n",
    "    df.loc[(df[\"Age\"].isnull()) & (df[\"Pclass\"]==1), 'Age'] = 38\n",
    "    df.loc[(df[\"Age\"].isnull()) & (df[\"Pclass\"]==2), 'Age'] = 30\n",
    "    df.loc[(df[\"Age\"].isnull()) & (df[\"Pclass\"]==3), 'Age'] = 25"
   ]
  },
  {
   "cell_type": "markdown",
   "id": "4ac2c5d2-9056-4ae0-bd8f-3e6233a8ee36",
   "metadata": {},
   "source": [
    "#### 3.3.2 Fare"
   ]
  },
  {
   "cell_type": "code",
   "execution_count": 29,
   "id": "6a190c36-6b46-4d06-9c43-9371407e9d4b",
   "metadata": {},
   "outputs": [
    {
     "data": {
      "text/html": [
       "<div>\n",
       "<style scoped>\n",
       "    .dataframe tbody tr th:only-of-type {\n",
       "        vertical-align: middle;\n",
       "    }\n",
       "\n",
       "    .dataframe tbody tr th {\n",
       "        vertical-align: top;\n",
       "    }\n",
       "\n",
       "    .dataframe thead th {\n",
       "        text-align: right;\n",
       "    }\n",
       "</style>\n",
       "<table border=\"1\" class=\"dataframe\">\n",
       "  <thead>\n",
       "    <tr style=\"text-align: right;\">\n",
       "      <th></th>\n",
       "      <th>Pclass</th>\n",
       "      <th>Fare</th>\n",
       "    </tr>\n",
       "  </thead>\n",
       "  <tbody>\n",
       "    <tr>\n",
       "      <th>0</th>\n",
       "      <td>1</td>\n",
       "      <td>84.154687</td>\n",
       "    </tr>\n",
       "    <tr>\n",
       "      <th>1</th>\n",
       "      <td>2</td>\n",
       "      <td>20.662183</td>\n",
       "    </tr>\n",
       "    <tr>\n",
       "      <th>2</th>\n",
       "      <td>3</td>\n",
       "      <td>13.675550</td>\n",
       "    </tr>\n",
       "  </tbody>\n",
       "</table>\n",
       "</div>"
      ],
      "text/plain": [
       "   Pclass       Fare\n",
       "0       1  84.154687\n",
       "1       2  20.662183\n",
       "2       3  13.675550"
      ]
     },
     "execution_count": 29,
     "metadata": {},
     "output_type": "execute_result"
    }
   ],
   "source": [
    "train[['Pclass', 'Fare']].groupby(['Pclass'], as_index=False).mean()"
   ]
  },
  {
   "cell_type": "code",
   "execution_count": 30,
   "id": "5e3f3e5e-75fb-4d93-8060-9a237254c859",
   "metadata": {},
   "outputs": [],
   "source": [
    "for df in sets:\n",
    "    df.loc[(df[\"Fare\"].isnull()) & (df[\"Pclass\"]==1), 'Fare'] = 84\n",
    "    df.loc[(df[\"Fare\"].isnull()) & (df[\"Pclass\"]==2), 'Fare'] = 21\n",
    "    df.loc[(df[\"Fare\"].isnull()) & (df[\"Pclass\"]==3), 'Fare'] = 14"
   ]
  },
  {
   "cell_type": "markdown",
   "id": "3f8e40cd-d62a-43e0-920a-9a33c776b3bf",
   "metadata": {},
   "source": [
    "### 3.4 Categorical Variable Enconding and Splitting of Features and Target\n",
    "\n",
    "For categorical variables, we need to encode them for our ML models to understand."
   ]
  },
  {
   "cell_type": "code",
   "execution_count": 31,
   "id": "a04a25a7-5c61-4695-8ad3-0a40b873d6a3",
   "metadata": {},
   "outputs": [],
   "source": [
    "train = pd.get_dummies(train, prefix=[\"Sex\", \"Embarked\", \"Title\"])\n",
    "test = pd.get_dummies(test, prefix=[\"Sex\", \"Embarked\", \"Title\"])"
   ]
  },
  {
   "cell_type": "code",
   "execution_count": 32,
   "id": "6021b0a5-b16d-4287-b318-f74a09cb4f7b",
   "metadata": {},
   "outputs": [],
   "source": [
    "X_train = train.drop([\"Survived\"], axis=1)\n",
    "y_train = train[\"Survived\"]"
   ]
  },
  {
   "cell_type": "code",
   "execution_count": 33,
   "id": "8eb1880f-2776-429c-8673-b1d34c9ce359",
   "metadata": {},
   "outputs": [],
   "source": [
    "X_test = test.copy()"
   ]
  },
  {
   "cell_type": "markdown",
   "id": "98b58f1f-463d-4248-8770-b717b9d898b8",
   "metadata": {},
   "source": [
    "## 4. Predicting and Modelling\n",
    "The problem at hand is a classificiation problem to determine whether a passenger will survive based on a given set of features. As we have both features and ground truth labels to determine whether a passenger survived or not, we narrow down our possible machine learning algorithms to:\n",
    "\n",
    "- Neural Network with Sigmoid Activation\n",
    "- Logistic Regression\n",
    "- Boosted Trees\n",
    "\n",
    "Cost will be measured as the fraction of incorrect predictions. We will test all 3 algorithms and select the one with the lowest cost"
   ]
  },
  {
   "cell_type": "markdown",
   "id": "7d590f83-86a3-4f32-b816-9b7c52da4129",
   "metadata": {},
   "source": [
    "### 4.1 Feature Scaling\n",
    "We normalize features here for efficient training of our models"
   ]
  },
  {
   "cell_type": "code",
   "execution_count": 34,
   "id": "1029806c-0fd7-43ba-81d5-7acfe8d960aa",
   "metadata": {},
   "outputs": [],
   "source": [
    "scaler = StandardScaler()\n",
    "\n",
    "Xn = scaler.fit_transform(X_train)\n",
    "Xn_test = scaler.fit_transform(X_test)"
   ]
  },
  {
   "cell_type": "markdown",
   "id": "90fcc842-3b04-4839-b542-99126508b5c0",
   "metadata": {},
   "source": [
    "### 4.2 Modelling\n",
    "\n",
    "#### 4.2.1 Neural Network with Sigmoid Activation"
   ]
  },
  {
   "cell_type": "code",
   "execution_count": 35,
   "id": "cc41fa9a-bfe6-48f5-bb05-58e2150a528e",
   "metadata": {
    "scrolled": true,
    "tags": []
   },
   "outputs": [
    {
     "name": "stdout",
     "output_type": "stream",
     "text": [
      "Metal device set to: Apple M1 Pro\n",
      "Epoch 1/100\n"
     ]
    },
    {
     "name": "stderr",
     "output_type": "stream",
     "text": [
      "2022-07-13 00:50:55.520106: I tensorflow/core/common_runtime/pluggable_device/pluggable_device_factory.cc:305] Could not identify NUMA node of platform GPU ID 0, defaulting to 0. Your kernel may not have been built with NUMA support.\n",
      "2022-07-13 00:50:55.520243: I tensorflow/core/common_runtime/pluggable_device/pluggable_device_factory.cc:271] Created TensorFlow device (/job:localhost/replica:0/task:0/device:GPU:0 with 0 MB memory) -> physical PluggableDevice (device: 0, name: METAL, pci bus id: <undefined>)\n",
      "2022-07-13 00:50:55.568182: W tensorflow/core/platform/profile_utils/cpu_utils.cc:128] Failed to get CPU frequency: 0 Hz\n",
      "/Library/Frameworks/Python.framework/Versions/3.10/lib/python3.10/site-packages/tensorflow/python/util/dispatch.py:1082: UserWarning: \"`binary_crossentropy` received `from_logits=True`, but the `output` argument was produced by a sigmoid or softmax activation and thus does not represent logits. Was this intended?\"\n",
      "  return dispatch_target(*args, **kwargs)\n"
     ]
    },
    {
     "name": "stdout",
     "output_type": "stream",
     "text": [
      "12/28 [===========>..................] - ETA: 0s - loss: 0.5310"
     ]
    },
    {
     "name": "stderr",
     "output_type": "stream",
     "text": [
      "2022-07-13 00:50:55.756849: I tensorflow/core/grappler/optimizers/custom_graph_optimizer_registry.cc:113] Plugin optimizer for device_type GPU is enabled.\n"
     ]
    },
    {
     "name": "stdout",
     "output_type": "stream",
     "text": [
      "28/28 [==============================] - 0s 6ms/step - loss: 0.4732\n",
      "Epoch 2/100\n",
      "28/28 [==============================] - 0s 5ms/step - loss: 0.4066\n",
      "Epoch 3/100\n",
      "28/28 [==============================] - 0s 5ms/step - loss: 0.4012\n",
      "Epoch 4/100\n",
      "28/28 [==============================] - 0s 5ms/step - loss: 0.3970\n",
      "Epoch 5/100\n",
      "28/28 [==============================] - 0s 5ms/step - loss: 0.3866\n",
      "Epoch 6/100\n",
      "28/28 [==============================] - 0s 5ms/step - loss: 0.4008\n",
      "Epoch 7/100\n",
      "28/28 [==============================] - 0s 5ms/step - loss: 0.3856\n",
      "Epoch 8/100\n",
      "28/28 [==============================] - 0s 5ms/step - loss: 0.3914\n",
      "Epoch 9/100\n",
      "28/28 [==============================] - 0s 5ms/step - loss: 0.3814\n",
      "Epoch 10/100\n",
      "28/28 [==============================] - 0s 5ms/step - loss: 0.3739\n",
      "Epoch 11/100\n",
      "28/28 [==============================] - 0s 5ms/step - loss: 0.3803\n",
      "Epoch 12/100\n",
      "28/28 [==============================] - 0s 5ms/step - loss: 0.3868\n",
      "Epoch 13/100\n",
      "28/28 [==============================] - 0s 5ms/step - loss: 0.3814\n",
      "Epoch 14/100\n",
      "28/28 [==============================] - 0s 5ms/step - loss: 0.3687\n",
      "Epoch 15/100\n",
      "28/28 [==============================] - 0s 5ms/step - loss: 0.3785\n",
      "Epoch 16/100\n",
      "28/28 [==============================] - 0s 5ms/step - loss: 0.3672\n",
      "Epoch 17/100\n",
      "28/28 [==============================] - 0s 5ms/step - loss: 0.3740\n",
      "Epoch 18/100\n",
      "28/28 [==============================] - 0s 5ms/step - loss: 0.3631\n",
      "Epoch 19/100\n",
      "28/28 [==============================] - 0s 5ms/step - loss: 0.3603\n",
      "Epoch 20/100\n",
      "28/28 [==============================] - 0s 5ms/step - loss: 0.3618\n",
      "Epoch 21/100\n",
      "28/28 [==============================] - 0s 5ms/step - loss: 0.3600\n",
      "Epoch 22/100\n",
      "28/28 [==============================] - 0s 5ms/step - loss: 0.3657\n",
      "Epoch 23/100\n",
      "28/28 [==============================] - 0s 5ms/step - loss: 0.3562\n",
      "Epoch 24/100\n",
      "28/28 [==============================] - 0s 5ms/step - loss: 0.3583\n",
      "Epoch 25/100\n",
      "28/28 [==============================] - 0s 5ms/step - loss: 0.3508\n",
      "Epoch 26/100\n",
      "28/28 [==============================] - 0s 5ms/step - loss: 0.3590\n",
      "Epoch 27/100\n",
      "28/28 [==============================] - 0s 5ms/step - loss: 0.3553\n",
      "Epoch 28/100\n",
      "28/28 [==============================] - 0s 5ms/step - loss: 0.3627\n",
      "Epoch 29/100\n",
      "28/28 [==============================] - 0s 5ms/step - loss: 0.3575\n",
      "Epoch 30/100\n",
      "28/28 [==============================] - 0s 5ms/step - loss: 0.3569\n",
      "Epoch 31/100\n",
      "28/28 [==============================] - 0s 5ms/step - loss: 0.3528\n",
      "Epoch 32/100\n",
      "28/28 [==============================] - 0s 5ms/step - loss: 0.3555\n",
      "Epoch 33/100\n",
      "28/28 [==============================] - 0s 5ms/step - loss: 0.3418\n",
      "Epoch 34/100\n",
      "28/28 [==============================] - 0s 5ms/step - loss: 0.3415\n",
      "Epoch 35/100\n",
      "28/28 [==============================] - 0s 5ms/step - loss: 0.3429\n",
      "Epoch 36/100\n",
      "28/28 [==============================] - 0s 5ms/step - loss: 0.3405\n",
      "Epoch 37/100\n",
      "28/28 [==============================] - 0s 5ms/step - loss: 0.3414\n",
      "Epoch 38/100\n",
      "28/28 [==============================] - 0s 5ms/step - loss: 0.3393\n",
      "Epoch 39/100\n",
      "28/28 [==============================] - 0s 5ms/step - loss: 0.3351\n",
      "Epoch 40/100\n",
      "28/28 [==============================] - 0s 5ms/step - loss: 0.3429\n",
      "Epoch 41/100\n",
      "28/28 [==============================] - 0s 5ms/step - loss: 0.3439\n",
      "Epoch 42/100\n",
      "28/28 [==============================] - 0s 5ms/step - loss: 0.3326\n",
      "Epoch 43/100\n",
      "28/28 [==============================] - 0s 5ms/step - loss: 0.3320\n",
      "Epoch 44/100\n",
      "28/28 [==============================] - 0s 5ms/step - loss: 0.3311\n",
      "Epoch 45/100\n",
      "28/28 [==============================] - 0s 5ms/step - loss: 0.3316\n",
      "Epoch 46/100\n",
      "28/28 [==============================] - 0s 5ms/step - loss: 0.3274\n",
      "Epoch 47/100\n",
      "28/28 [==============================] - 0s 5ms/step - loss: 0.3254\n",
      "Epoch 48/100\n",
      "28/28 [==============================] - 0s 5ms/step - loss: 0.3284\n",
      "Epoch 49/100\n",
      "28/28 [==============================] - 0s 5ms/step - loss: 0.3299\n",
      "Epoch 50/100\n",
      "28/28 [==============================] - 0s 5ms/step - loss: 0.3268\n",
      "Epoch 51/100\n",
      "28/28 [==============================] - 0s 5ms/step - loss: 0.3301\n",
      "Epoch 52/100\n",
      "28/28 [==============================] - 0s 5ms/step - loss: 0.3249\n",
      "Epoch 53/100\n",
      "28/28 [==============================] - 0s 5ms/step - loss: 0.3261\n",
      "Epoch 54/100\n",
      "28/28 [==============================] - 0s 5ms/step - loss: 0.3181\n",
      "Epoch 55/100\n",
      "28/28 [==============================] - 0s 5ms/step - loss: 0.3174\n",
      "Epoch 56/100\n",
      "28/28 [==============================] - 0s 5ms/step - loss: 0.3270\n",
      "Epoch 57/100\n",
      "28/28 [==============================] - 0s 5ms/step - loss: 0.3271\n",
      "Epoch 58/100\n",
      "28/28 [==============================] - 0s 5ms/step - loss: 0.3170\n",
      "Epoch 59/100\n",
      "28/28 [==============================] - 0s 5ms/step - loss: 0.3184\n",
      "Epoch 60/100\n",
      "28/28 [==============================] - 0s 5ms/step - loss: 0.3217\n",
      "Epoch 61/100\n",
      "28/28 [==============================] - 0s 5ms/step - loss: 0.3152\n",
      "Epoch 62/100\n",
      "28/28 [==============================] - 0s 5ms/step - loss: 0.3183\n",
      "Epoch 63/100\n",
      "28/28 [==============================] - 0s 5ms/step - loss: 0.3223\n",
      "Epoch 64/100\n",
      "28/28 [==============================] - 0s 5ms/step - loss: 0.3076\n",
      "Epoch 65/100\n",
      "28/28 [==============================] - 0s 5ms/step - loss: 0.3122\n",
      "Epoch 66/100\n",
      "28/28 [==============================] - 0s 5ms/step - loss: 0.3088\n",
      "Epoch 67/100\n",
      "28/28 [==============================] - 0s 5ms/step - loss: 0.3221\n",
      "Epoch 68/100\n",
      "28/28 [==============================] - 0s 5ms/step - loss: 0.3160\n",
      "Epoch 69/100\n",
      "28/28 [==============================] - 0s 5ms/step - loss: 0.3112\n",
      "Epoch 70/100\n",
      "28/28 [==============================] - 0s 5ms/step - loss: 0.3130\n",
      "Epoch 71/100\n",
      "28/28 [==============================] - 0s 5ms/step - loss: 0.3144\n",
      "Epoch 72/100\n",
      "28/28 [==============================] - 0s 5ms/step - loss: 0.3193\n",
      "Epoch 73/100\n",
      "28/28 [==============================] - 0s 5ms/step - loss: 0.3126\n",
      "Epoch 74/100\n",
      "28/28 [==============================] - 0s 5ms/step - loss: 0.3299\n",
      "Epoch 75/100\n",
      "28/28 [==============================] - 0s 5ms/step - loss: 0.3179\n",
      "Epoch 76/100\n",
      "28/28 [==============================] - 0s 5ms/step - loss: 0.3107\n",
      "Epoch 77/100\n",
      "28/28 [==============================] - 0s 5ms/step - loss: 0.3073\n",
      "Epoch 78/100\n",
      "28/28 [==============================] - 0s 5ms/step - loss: 0.3102\n",
      "Epoch 79/100\n",
      "28/28 [==============================] - 0s 5ms/step - loss: 0.3121\n",
      "Epoch 80/100\n",
      "28/28 [==============================] - 0s 5ms/step - loss: 0.3105\n",
      "Epoch 81/100\n",
      "28/28 [==============================] - 0s 5ms/step - loss: 0.3071\n",
      "Epoch 82/100\n",
      "28/28 [==============================] - 0s 5ms/step - loss: 0.2988\n",
      "Epoch 83/100\n",
      "28/28 [==============================] - 0s 5ms/step - loss: 0.3009\n",
      "Epoch 84/100\n",
      "28/28 [==============================] - 0s 5ms/step - loss: 0.3101\n",
      "Epoch 85/100\n",
      "28/28 [==============================] - 0s 5ms/step - loss: 0.3124\n",
      "Epoch 86/100\n",
      "28/28 [==============================] - 0s 5ms/step - loss: 0.3022\n",
      "Epoch 87/100\n",
      "28/28 [==============================] - 0s 5ms/step - loss: 0.3059\n",
      "Epoch 88/100\n",
      "28/28 [==============================] - 0s 5ms/step - loss: 0.3079\n",
      "Epoch 89/100\n",
      "28/28 [==============================] - 0s 5ms/step - loss: 0.3043\n",
      "Epoch 90/100\n",
      "28/28 [==============================] - 0s 5ms/step - loss: 0.2951\n",
      "Epoch 91/100\n",
      "28/28 [==============================] - 0s 5ms/step - loss: 0.2967\n",
      "Epoch 92/100\n",
      "28/28 [==============================] - 0s 5ms/step - loss: 0.2949\n",
      "Epoch 93/100\n",
      "28/28 [==============================] - 0s 5ms/step - loss: 0.2949\n",
      "Epoch 94/100\n",
      "28/28 [==============================] - 0s 5ms/step - loss: 0.2991\n",
      "Epoch 95/100\n",
      "28/28 [==============================] - 0s 5ms/step - loss: 0.2972\n",
      "Epoch 96/100\n",
      "28/28 [==============================] - 0s 5ms/step - loss: 0.2927\n",
      "Epoch 97/100\n",
      "28/28 [==============================] - 0s 5ms/step - loss: 0.2919\n",
      "Epoch 98/100\n",
      "28/28 [==============================] - 0s 5ms/step - loss: 0.2966\n",
      "Epoch 99/100\n",
      "28/28 [==============================] - 0s 5ms/step - loss: 0.2886\n",
      "Epoch 100/100\n",
      "28/28 [==============================] - 0s 5ms/step - loss: 0.2929\n"
     ]
    },
    {
     "data": {
      "text/plain": [
       "<keras.callbacks.History at 0x2a88d3ca0>"
      ]
     },
     "execution_count": 35,
     "metadata": {},
     "output_type": "execute_result"
    }
   ],
   "source": [
    "# Initiliaze model with layers\n",
    "neural_model = Sequential([\n",
    "            Dense(units=50, activation='relu', name='L1'),\n",
    "            Dense(units=15, activation='relu', name='L2'),\n",
    "            Dense(units=1, activation='sigmoid', name='L3')\n",
    "          ])\n",
    "\n",
    "neural_model.compile(loss=tf.keras.losses.BinaryCrossentropy(from_logits=True),\n",
    "                     optimizer=tf.keras.optimizers.Adam(learning_rate=0.01))\n",
    "\n",
    "neural_model.fit(Xn, y_train, epochs=100)"
   ]
  },
  {
   "cell_type": "code",
   "execution_count": 36,
   "id": "03f13429-af9c-4e1e-9e09-0bde117a70e3",
   "metadata": {},
   "outputs": [],
   "source": [
    "# Converting to numpy arrays for tf\n",
    "y_train_np = y_train.to_numpy() \n",
    "y_train_np = y_train_np.reshape((-1, 1))"
   ]
  },
  {
   "cell_type": "code",
   "execution_count": 37,
   "id": "6d5ebe17-795b-41f6-b96d-1b697e9f7538",
   "metadata": {},
   "outputs": [
    {
     "name": "stdout",
     "output_type": "stream",
     "text": [
      "28/28 [==============================] - 0s 2ms/step\n",
      "The training error for Neural network is 0.6161616161616161\n"
     ]
    },
    {
     "name": "stderr",
     "output_type": "stream",
     "text": [
      "2022-07-13 00:51:09.573476: I tensorflow/core/grappler/optimizers/custom_graph_optimizer_registry.cc:113] Plugin optimizer for device_type GPU is enabled.\n"
     ]
    }
   ],
   "source": [
    "neural_predictions = neural_model.predict(Xn)\n",
    "\n",
    "# Convert to Sigmoid values\n",
    "neural_yhat = tf.nn.sigmoid(neural_predictions).numpy()\n",
    "\n",
    "# Set threshold\n",
    "neural_yhat = (neural_yhat >= 0.5).astype(int)\n",
    "\n",
    "# Calculate training error\n",
    "neural_error = len(neural_yhat[neural_yhat!=y_train_np]) / len(y_train_np)\n",
    "print(f\"The training error for Neural network is {neural_error}\")"
   ]
  },
  {
   "cell_type": "markdown",
   "id": "49d82eed-ca12-46e8-b1e7-f58a1d4eadf8",
   "metadata": {},
   "source": [
    "#### 4.2.2 Logistic Regression"
   ]
  },
  {
   "cell_type": "code",
   "execution_count": 38,
   "id": "193a66ab-7ee9-4ba1-a55e-9cc857212675",
   "metadata": {},
   "outputs": [
    {
     "name": "stdout",
     "output_type": "stream",
     "text": [
      "The training error for Logistic Regression is 0.16498316498316498\n"
     ]
    }
   ],
   "source": [
    "logreg = LogisticRegression()\n",
    "logreg.fit(Xn, y_train)\n",
    "log_predictions = logreg.predict(Xn)\n",
    "\n",
    "log_error = len(log_predictions[log_predictions!=y_train.to_numpy()]) / len(y_train)\n",
    "print(f\"The training error for Logistic Regression is {log_error}\")"
   ]
  },
  {
   "cell_type": "markdown",
   "id": "a0f37d10-703f-4184-a127-167311e44434",
   "metadata": {},
   "source": [
    "#### 4.2.3 Boosted Trees"
   ]
  },
  {
   "cell_type": "code",
   "execution_count": 50,
   "id": "26d77957-5b2c-4655-a715-1a4da66ece1c",
   "metadata": {},
   "outputs": [
    {
     "name": "stdout",
     "output_type": "stream",
     "text": [
      "The training error for Boosted Trees is 0.031425364758698095\n"
     ]
    }
   ],
   "source": [
    "tree = XGBClassifier()\n",
    "tree.fit(Xn, y_train)\n",
    "tree_pred = tree.predict(Xn)\n",
    "\n",
    "log_error = len(tree_pred[tree_pred!=y_train.to_numpy()]) / len(y_train)\n",
    "print(f\"The training error for Boosted Trees is {log_error}\")"
   ]
  },
  {
   "cell_type": "markdown",
   "id": "e4c2adbc-0822-4dd6-be4a-ffe34b637909",
   "metadata": {},
   "source": [
    "**Conclusion for model selection**\n",
    "We ultimately pick Boosted Trees as the most appropriate model due to it having the lowest training error out of the 3 models. However, further diagnosis could have been done on the Neural Network and Logistic Regression such as Bias/Variance Analysis in order to better fit the model."
   ]
  },
  {
   "cell_type": "markdown",
   "id": "1f7c5b9f-63bd-4561-a9e2-1355869508c4",
   "metadata": {
    "jp-MarkdownHeadingCollapsed": true,
    "tags": []
   },
   "source": [
    "## 5. Diagnosis of Model\n",
    "\n",
    "Currently, the model has a score of 0.76555 on Kaggle, meaning that our test error is around 0.24. That is ~2.5x the training error and might hint that our model is currently overfit. There are a few methods we can consider to diagnose this problem\n",
    "\n",
    "1. Increasing the data set\n",
    "2. Decrease number of features\n",
    "3. Increase regularisation\n",
    "\n",
    "For Trees, we can consider options 1 and 2, but there is insufficient data to increase the training data set. As such, we can either increase L2 Regularisation on the model or convert continuous features into ranges based on the lowest information gain possible."
   ]
  },
  {
   "cell_type": "markdown",
   "id": "a48c8885-baa7-4b5e-a824-327d8ed51f63",
   "metadata": {},
   "source": [
    "## New Submission\n",
    "This submission after the retraining of Boosted Trees with the newly engineered Fare feature improved the model's score to 0.77751, and ranked 4457.\n",
    "\n",
    "This happens despite the increase in training error of the new model."
   ]
  },
  {
   "cell_type": "code",
   "execution_count": 60,
   "id": "b5d0d90e-97af-43d8-b309-1167a66dd341",
   "metadata": {},
   "outputs": [],
   "source": [
    "final_pred = tree.predict(Xn_test)\n",
    "submission = pd.DataFrame({\n",
    "        \"PassengerId\": backup,\n",
    "        \"Survived\": final_pred\n",
    "    })\n",
    "\n",
    "submission.to_csv('submission.csv', index=False)"
   ]
  },
  {
   "cell_type": "code",
   "execution_count": null,
   "id": "e80d9b1c-8626-4395-88c7-eefd8e2faceb",
   "metadata": {},
   "outputs": [],
   "source": []
  }
 ],
 "metadata": {
  "kernelspec": {
   "display_name": "Python 3 (ipykernel)",
   "language": "python",
   "name": "python3"
  },
  "language_info": {
   "codemirror_mode": {
    "name": "ipython",
    "version": 3
   },
   "file_extension": ".py",
   "mimetype": "text/x-python",
   "name": "python",
   "nbconvert_exporter": "python",
   "pygments_lexer": "ipython3",
   "version": "3.10.0"
  }
 },
 "nbformat": 4,
 "nbformat_minor": 5
}
